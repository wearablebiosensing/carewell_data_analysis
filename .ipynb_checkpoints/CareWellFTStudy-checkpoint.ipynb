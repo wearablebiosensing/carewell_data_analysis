{
 "cells": [
  {
   "cell_type": "code",
   "execution_count": null,
   "metadata": {},
   "outputs": [],
   "source": [
    "import datetime\n",
    "import sqlite3\n",
    "import numpy as np\n",
    "import pandas as pd\n",
    "import plotly as py\n",
    "import plotly.express as px\n",
    "import plotly.graph_objects as go\n",
    "import os\n"
   ]
  },
  {
   "cell_type": "code",
   "execution_count": null,
   "metadata": {},
   "outputs": [],
   "source": []
  },
  {
   "cell_type": "code",
   "execution_count": null,
   "metadata": {},
   "outputs": [],
   "source": [
    "# [FT-04, FT-11,FT-14,FT-16,FT-20]\n",
    "p_id = \"FT-20\"\n",
    "# Create your connection.\n",
    "cnx = sqlite3.connect('/Users/shehjarsadhu/Desktop/UniversityOfRhodeIsland/Graduate/ResearchWBL/Project_Carewell/FTStudyData/CareWellAppGroup/' + p_id + '/FT-20_carewell-database.db')\n",
    "df = pd.read_sql_query(\"SELECT * FROM usage_tracker_entry\", cnx)\n",
    "\n",
    "\n"
   ]
  },
  {
   "cell_type": "code",
   "execution_count": null,
   "metadata": {},
   "outputs": [],
   "source": [
    "df"
   ]
  },
  {
   "cell_type": "code",
   "execution_count": null,
   "metadata": {},
   "outputs": [],
   "source": [
    "# Convert unix time stamp and set it into mins. Then take the diff between start and end timestamp.\n",
    "# Takes in the df ans return the timestamp difference of unix timestams in mins.\n",
    "def mins_df_diff(df):\n",
    "    mins_diff = []\n",
    "    for s,e in zip(df[\"start_date\"], df[\"end_date\"]):\n",
    "        # Round to remove the last three digits of the number.\n",
    "        converted_d1 = datetime.datetime.fromtimestamp(round(s / 1000)) \n",
    "        converted_d2 = datetime.datetime.fromtimestamp(round(e / 1000))\n",
    "        mins_diff.append((converted_d2 - converted_d1).total_seconds() / 60) # This is in Mins.\n",
    "    mins_diff_np = np.asarray(mins_diff) # covert to np so that can easily append to df.\n",
    "    df[\"UsageDiff\"] = mins_diff_np\n",
    "    return df\n"
   ]
  },
  {
   "cell_type": "code",
   "execution_count": null,
   "metadata": {},
   "outputs": [],
   "source": [
    "df = mins_df_diff(df)"
   ]
  },
  {
   "cell_type": "code",
   "execution_count": null,
   "metadata": {},
   "outputs": [],
   "source": [
    "def return_total(df):\n",
    "    education_sum = 0 \n",
    "    managing_care_sum = 0\n",
    "    youtube_channel_sum = 0\n",
    "    dashboard_sum = 0\n",
    "    community_sum = 0\n",
    "    goals_sum = 0\n",
    "    for idx,val in enumerate(df[\"location\"]):\n",
    "        if((\"Education\" in val) == True):\n",
    "            education_sum+=df[\"UsageDiff\"][idx]\n",
    "        if((\"Managing\" in val) == True):\n",
    "            managing_care_sum+=df[\"UsageDiff\"][idx]\n",
    "        if((\"Media\" in val) == True):\n",
    "            youtube_channel_sum+=df[\"UsageDiff\"][idx]\n",
    "        if((\"Dashboard\" in val) == True):\n",
    "            youtube_channel_sum+=df[\"UsageDiff\"][idx]\n",
    "        if((\"Community\" in val) == True):\n",
    "            community_sum+=df[\"UsageDiff\"][idx]\n",
    "        if((\"Reminder\" in val) == True):\n",
    "            goals_sum+=df[\"UsageDiff\"][idx]\n",
    "    d = { \"totals\": [education_sum, managing_care_sum, youtube_channel_sum, dashboard_sum ,community_sum,goals_sum] ,\n",
    "        \"categories\": [\"Education\",\"ManagingCare\",\"YoutubeChannel\", \"Dashboard\",\"Community\",\"Reminders\"]}\n",
    "    df_totals = pd.DataFrame(d)\n",
    "    return df_totals\n",
    "df_totals = return_total(df)\n",
    "df_totals[\"totals\"].sum()"
   ]
  },
  {
   "cell_type": "code",
   "execution_count": null,
   "metadata": {},
   "outputs": [],
   "source": [
    "\n",
    "fig = go.Figure(data=[go.Bar(\n",
    "            y=df_totals[\"totals\"], x=df_totals[\"categories\"],\n",
    "            text=df_totals[\"totals\"],\n",
    "            textposition='auto',\n",
    "        )])\n",
    "fig.update_layout(\n",
    "    title={\n",
    "        'text': \"A bar plot of total number of mins spent per participant (\" + p_id +\")\",\n",
    "        'y':0.95,\n",
    "        'x':0.5,\n",
    "        'xanchor': 'center',\n",
    "        'yanchor': 'top'})\n",
    "fig.show()\n"
   ]
  },
  {
   "cell_type": "markdown",
   "metadata": {},
   "source": [
    "# Uage analysis for all participants"
   ]
  },
  {
   "cell_type": "code",
   "execution_count": null,
   "metadata": {},
   "outputs": [],
   "source": [
    "\n",
    "pid_list = [\"FT-01\",\"FT-02\",\"FT-04\", \"FT-07\",\"FT-11\",\"FT-12\",\"FT-14\",\"FT-16\",\"FT-20\",\"FT-24\",\"FT-25\",\"FT-26\",\"FT-28\",\"FT-29\",\"FT-40\",\"FT-39\",\"FT-30\"]\n",
    "\n"
   ]
  },
  {
   "cell_type": "code",
   "execution_count": null,
   "metadata": {},
   "outputs": [],
   "source": [
    "\n",
    "# cnx = sqlite3.connect(\"/Users/shehjarsadhu/Desktop/UniversityOfRhodeIsland/Graduate/WBL/Project_Carewell/FTStudyData/CareWellAppGroup/APPGROUP/FT-01/carewell-database.db\")\n",
    "#                       #\"/Users/shehjarsadhu/Desktop/UniversityOfRhodeIsland/Graduate/WBL/Project_Carewell/FTStudyData/CareWellAppGroup/APPGROUP/FT-01/carewell-database.db\"\n",
    "# df = pd.read_sql_query(\"SELECT * FROM usage_tracker_entry\", cnx)\n",
    "# df\n"
   ]
  },
  {
   "cell_type": "code",
   "execution_count": null,
   "metadata": {},
   "outputs": [],
   "source": [
    "for idx,val in enumerate(pid_list):\n",
    "    print(val)"
   ]
  },
  {
   "cell_type": "code",
   "execution_count": null,
   "metadata": {},
   "outputs": [],
   "source": [
    "df_list_total  = []\n",
    "df_list_all = []\n",
    "for idx,val in enumerate(pid_list):\n",
    "    print(val)\n",
    "#     #/Users/shehjarsadhu/Desktop/UniversityOfRhodeIsland/Graduate/WBL/Project_Carewell/FTStudyData/CareWellAppGroup/APPGROUP/FT-01/carewell-database.db\n",
    "    print('/Users/shehjarsadhu/Desktop/UniversityOfRhodeIsland/Graduate/WBL/Project_Carewell/FTStudyData/CareWellAppGroup/APPGROUP/' + val + '/carewell-database.db')\n",
    "    # Create your connection.\n",
    "    cnx = sqlite3.connect('/Users/shehjarsadhu/Desktop/UniversityOfRhodeIsland/Graduate/WBL/Project_Carewell/FTStudyData/CareWellAppGroup/APPGROUP/' + val + '/carewell-database.db')\n",
    "    df = pd.read_sql_query(\"SELECT * FROM usage_tracker_entry\", cnx)\n",
    "    df[\"PID\"] = val\n",
    "    print(df.head())\n",
    "    df_list_all.append(df)\n",
    "    \n",
    "    \n",
    "    "
   ]
  },
  {
   "cell_type": "code",
   "execution_count": null,
   "metadata": {},
   "outputs": [],
   "source": [
    "f = pd.concat(df_list_all)"
   ]
  },
  {
   "cell_type": "code",
   "execution_count": null,
   "metadata": {},
   "outputs": [],
   "source": [
    "f.to_csv(\"/Users/shehjarsadhu/Desktop/all_usage_data.csv\")"
   ]
  },
  {
   "cell_type": "code",
   "execution_count": null,
   "metadata": {},
   "outputs": [],
   "source": [
    "df_usage = pd.read_csv(\"/Users/shehjarsadhu/Desktop/all_usage_data.csv\")\n",
    "\n"
   ]
  },
  {
   "cell_type": "code",
   "execution_count": null,
   "metadata": {},
   "outputs": [],
   "source": [
    "df_usage[\"PID\"].unique()"
   ]
  },
  {
   "cell_type": "code",
   "execution_count": null,
   "metadata": {},
   "outputs": [],
   "source": []
  },
  {
   "cell_type": "code",
   "execution_count": null,
   "metadata": {},
   "outputs": [],
   "source": [
    "start_date_ts = []\n",
    "for i in df_usage[\"start_date\"]:\n",
    "#     print(i)\n",
    "    dt = datetime.datetime.fromtimestamp(i / 1000.0, tz=datetime.timezone.utc)\n",
    "#     start_date_only.append(dt.split(\" \")[0])\n",
    "    start_date_ts.append(dt)"
   ]
  },
  {
   "cell_type": "code",
   "execution_count": null,
   "metadata": {},
   "outputs": [],
   "source": [
    "end_date_ts = []\n",
    "for i in df_usage[\"end_date\"]:\n",
    "    dt = datetime.datetime.fromtimestamp(i / 1000.0, tz=datetime.timezone.utc)\n",
    "    #i.split(\" \")[0]\n",
    "    end_date_ts.append(dt)"
   ]
  },
  {
   "cell_type": "code",
   "execution_count": null,
   "metadata": {},
   "outputs": [],
   "source": [
    "#start_date_ts,end_date_ts"
   ]
  },
  {
   "cell_type": "code",
   "execution_count": null,
   "metadata": {},
   "outputs": [],
   "source": [
    "df_usage[\"ts_start_date\"] = start_date_ts\n",
    "df_usage[\"ts_end_date\"] = end_date_ts\n"
   ]
  },
  {
   "cell_type": "code",
   "execution_count": null,
   "metadata": {},
   "outputs": [],
   "source": [
    "df_usage.to_csv(\"/Users/shehjarsadhu/Desktop/all_usage_data_ts.csv\")"
   ]
  },
  {
   "cell_type": "code",
   "execution_count": null,
   "metadata": {},
   "outputs": [],
   "source": [
    "df_all_totals = pd.concat(df_list_total)"
   ]
  },
  {
   "cell_type": "code",
   "execution_count": null,
   "metadata": {},
   "outputs": [],
   "source": [
    "\n",
    "df_all_totals.to_csv(\"/Users/shehjarsadhu/Desktop/UniversityOfRhodeIsland/Graduate/WBL/Project_Carewell/FTStudyData/CareWellAppGroup/APPGROUP/totals_category_reminders_fixed.csv\",index=0)\n",
    "\n"
   ]
  },
  {
   "cell_type": "code",
   "execution_count": null,
   "metadata": {},
   "outputs": [],
   "source": [
    "# df_t_all = pd.read_csv(\"/Users/shehjarsadhu/Desktop/UniversityOfRhodeIsland/Graduate/ResearchWBL/Project_Carewell/FTStudyData/CareWellAppGroup/APPGROUP/totals_category.csv\")\n",
    "df_t_all = pd.read_csv(\"/Users/shehjarsadhu/Desktop/all_usage_data_simplified.csv\")\n",
    "\n",
    "start_date_only = []\n",
    "end_date_onnly =[]\n",
    "for i in df_t_all[\"ts_start_date\"]:\n",
    "    start_date_only.append(i.split(\" \")[0])\n",
    "for j in df_t_all[\"ts_end_date\"]:\n",
    "    end_date_onnly.append(j.split(\" \")[0])\n",
    "    \n",
    "\n"
   ]
  },
  {
   "cell_type": "code",
   "execution_count": null,
   "metadata": {},
   "outputs": [],
   "source": [
    "# df_t_all[\"start_date_only\"] = start_date_only"
   ]
  },
  {
   "cell_type": "code",
   "execution_count": null,
   "metadata": {},
   "outputs": [],
   "source": [
    "# df_t_all[\"wend_date_only\"] = end_date_onnly"
   ]
  },
  {
   "cell_type": "code",
   "execution_count": null,
   "metadata": {},
   "outputs": [],
   "source": [
    "# df_t_all.to_csv(\"/Users/shehjarsadhu/Desktop/all_usage_data_simplified.csv\")"
   ]
  },
  {
   "cell_type": "code",
   "execution_count": null,
   "metadata": {},
   "outputs": [],
   "source": [
    "df_t_all"
   ]
  },
  {
   "cell_type": "code",
   "execution_count": null,
   "metadata": {
    "scrolled": true
   },
   "outputs": [],
   "source": [
    "df_t_all.columns"
   ]
  },
  {
   "cell_type": "code",
   "execution_count": null,
   "metadata": {},
   "outputs": [],
   "source": [
    "num_days = []\n",
    "for p in df_t_all[\"PID\"].unique():\n",
    "    print(\"For PID: \", p)\n",
    "    df_by_pid = df_t_all[df_t_all[\"PID\"] == p]\n",
    "    print(len(df_by_pid[\"start_date_only\"].unique()))\n",
    "    num_days.append(len(df_by_pid[\"start_date_only\"].unique()))"
   ]
  },
  {
   "cell_type": "code",
   "execution_count": null,
   "metadata": {},
   "outputs": [],
   "source": [
    "d = pd.DataFrame({\"num_days\":num_days,\"pid_list\": pid_list})"
   ]
  },
  {
   "cell_type": "code",
   "execution_count": null,
   "metadata": {},
   "outputs": [],
   "source": [
    "d.to_csv(\"/Users/shehjarsadhu/Desktop/num_days.csv\")"
   ]
  },
  {
   "cell_type": "code",
   "execution_count": null,
   "metadata": {},
   "outputs": [],
   "source": []
  },
  {
   "cell_type": "code",
   "execution_count": null,
   "metadata": {},
   "outputs": [],
   "source": []
  },
  {
   "cell_type": "code",
   "execution_count": null,
   "metadata": {},
   "outputs": [],
   "source": []
  },
  {
   "cell_type": "markdown",
   "metadata": {},
   "source": [
    "# Initial Assessment"
   ]
  },
  {
   "cell_type": "code",
   "execution_count": null,
   "metadata": {},
   "outputs": [],
   "source": [
    "df_init = pd.read_csv(\"/Users/shehjarsadhu/Desktop/UniversityOfRhodeIsland/Graduate/WBL/Project_Carewell/FTStudyData/CareWellAppGroup/APPGROUP/FT-16/initial_assessment.csv\",sep=\"#\")\n",
    "\n"
   ]
  },
  {
   "cell_type": "code",
   "execution_count": null,
   "metadata": {},
   "outputs": [],
   "source": [
    "df_init.head()"
   ]
  },
  {
   "cell_type": "code",
   "execution_count": null,
   "metadata": {},
   "outputs": [],
   "source": [
    "df_init[\"category\"].unique()"
   ]
  },
  {
   "cell_type": "code",
   "execution_count": null,
   "metadata": {},
   "outputs": [],
   "source": [
    "# CATEGORIES - ['Family Functioning', 'Social Support', 'Mood/Depression', 'Health', 'Care Recipient'],"
   ]
  },
  {
   "cell_type": "code",
   "execution_count": null,
   "metadata": {},
   "outputs": [],
   "source": [
    "df_init[df_init[\"category\"]=='Family Functioning']#.shape \n",
    "# yes ==>  no concern , no => Concern. "
   ]
  },
  {
   "cell_type": "code",
   "execution_count": null,
   "metadata": {},
   "outputs": [],
   "source": [
    "counter_yes = 0\n",
    "counter_no = 0\n",
    "for i in df_init[df_init[\"category\"]=='Family Functioning'][\"answer1\"]:\n",
    "    if i == \"yes\":\n",
    "        counter_yes +=1\n",
    "    elif i == \"no\":\n",
    "        counter_no +=1\n",
    "# print(counter_yes,counter_no)\n",
    "print(\"Total = \",df_init[df_init[\"category\"]=='Family Functioning'].shape[0])\n",
    "print(\"Concern = \", counter_no/df_init[df_init[\"category\"]=='Family Functioning'].shape[0] *100)\n",
    "print(\"No Concern =\",counter_yes/df_init[df_init[\"category\"]=='Family Functioning'].shape[0] *100)"
   ]
  },
  {
   "cell_type": "code",
   "execution_count": null,
   "metadata": {},
   "outputs": [],
   "source": [
    "df_init[df_init[\"category\"]=='Family Functioning'].shape[0] "
   ]
  },
  {
   "cell_type": "code",
   "execution_count": null,
   "metadata": {},
   "outputs": [],
   "source": [
    "df_init[df_init[\"category\"]=='Social Support']#.shape"
   ]
  },
  {
   "cell_type": "code",
   "execution_count": null,
   "metadata": {},
   "outputs": [],
   "source": [
    "df_init[df_init[\"category\"]=='Social Support'].shape"
   ]
  },
  {
   "cell_type": "code",
   "execution_count": null,
   "metadata": {},
   "outputs": [],
   "source": [
    "df_init[df_init[\"category\"]=='Mood/Depression']"
   ]
  },
  {
   "cell_type": "code",
   "execution_count": null,
   "metadata": {},
   "outputs": [],
   "source": [
    "df_init[df_init[\"category\"]=='Mood/Depression'].shape"
   ]
  },
  {
   "cell_type": "code",
   "execution_count": null,
   "metadata": {},
   "outputs": [],
   "source": [
    "df_init[df_init[\"category\"]=='Mood/Depression']"
   ]
  },
  {
   "cell_type": "code",
   "execution_count": null,
   "metadata": {},
   "outputs": [],
   "source": []
  },
  {
   "cell_type": "code",
   "execution_count": null,
   "metadata": {},
   "outputs": [],
   "source": []
  },
  {
   "cell_type": "code",
   "execution_count": null,
   "metadata": {},
   "outputs": [],
   "source": []
  },
  {
   "cell_type": "code",
   "execution_count": null,
   "metadata": {},
   "outputs": [],
   "source": []
  },
  {
   "cell_type": "code",
   "execution_count": null,
   "metadata": {},
   "outputs": [],
   "source": []
  },
  {
   "cell_type": "code",
   "execution_count": null,
   "metadata": {},
   "outputs": [],
   "source": []
  },
  {
   "cell_type": "markdown",
   "metadata": {},
   "source": [
    "# Weekly Assessments"
   ]
  },
  {
   "cell_type": "code",
   "execution_count": null,
   "metadata": {},
   "outputs": [],
   "source": []
  },
  {
   "cell_type": "markdown",
   "metadata": {},
   "source": [
    "### Weekly Assessment info file"
   ]
  },
  {
   "cell_type": "code",
   "execution_count": null,
   "metadata": {},
   "outputs": [],
   "source": [
    "# Folder in which there is weekly assessment information.\n",
    "folder_participant = \"/Users/shehjarsadhu/Desktop/UniversityOfRhodeIsland/Graduate/WBL/Project_Carewell/FTStudyData/CareWellAppGroup/APPGROUP\"\n",
    "# Get initialassessment info for all the participants.\n",
    "def weekly_assessment_info_file(folder_participant):\n",
    "    weekly_ass_info_all = []\n",
    "    for participant_folder in os.listdir(folder_participant):\n",
    "        if participant_folder.startswith(\"FT\"):\n",
    "            print(\"participant_folder\",participant_folder)\n",
    "            for weekly_sssessment_file in os.listdir(folder_participant + \"/\" + participant_folder):\n",
    "                if weekly_sssessment_file.startswith(\"weekly_assessment\") and weekly_sssessment_file.endswith(\".csv\"):\n",
    "\n",
    "                    #  print(\"weekly_sssessment_file split:\",weekly_sssessment_file.split(\"assessment\",1)[1].split(\".\")[0])\n",
    "                    if weekly_sssessment_file.startswith(\"weekly_assessment_info\"):\n",
    "                        print(folder_participant + \"/\" + participant_folder + \"/\" + weekly_sssessment_file)\n",
    "                        df = pd.read_csv(folder_participant + \"/\" + participant_folder  + \"/\" + weekly_sssessment_file , sep=\"#\")\n",
    "                        df[\"pid\"] = participant_folder\n",
    "#                         df[\"timestamp\"] = \n",
    "#                         print(\"weekly_sssessment_file split\",weekly_sssessment_file.split(\"assessment\",1)[1].split(\".\")[0])\n",
    "                        weekly_ass_info_all.append(df)\n",
    "                        print(df)\n",
    "                        print(df.columns)\n",
    "                    else:\n",
    "                        pass\n",
    "    weekly_ass_info_all_df = pd.concat(weekly_ass_info_all)\n",
    "    return weekly_ass_info_all_df\n",
    "                    \n"
   ]
  },
  {
   "cell_type": "code",
   "execution_count": null,
   "metadata": {},
   "outputs": [],
   "source": [
    "\n",
    "weekly_ass_info_all_df = weekly_assessment_info_file(folder_participant)"
   ]
  },
  {
   "cell_type": "code",
   "execution_count": null,
   "metadata": {},
   "outputs": [],
   "source": []
  },
  {
   "cell_type": "code",
   "execution_count": null,
   "metadata": {},
   "outputs": [],
   "source": [
    "len(weekly_ass_info_all_df[\"pid\"].unique())"
   ]
  },
  {
   "cell_type": "code",
   "execution_count": null,
   "metadata": {},
   "outputs": [],
   "source": [
    "weekly_ass_info_all_df.to_csv(\"/Users/shehjarsadhu/Desktop/UniversityOfRhodeIsland/Graduate/WBL/Project_Carewell/FTStudyData/CareWellAppGroup/APPGROUP/weekly_assessment_info_all.csv\")\n",
    "\n"
   ]
  },
  {
   "cell_type": "code",
   "execution_count": null,
   "metadata": {},
   "outputs": [],
   "source": [
    "df_test = pd.read_csv(\"/Users/shehjarsadhu/Desktop/UniversityOfRhodeIsland/Graduate/WBL/Project_Carewell/FTStudyData/CareWellAppGroup/APPGROUP/FT-01/weekly_assessmentApr_1_202110_30_42_PM.csv\")\n",
    "\n"
   ]
  },
  {
   "cell_type": "code",
   "execution_count": null,
   "metadata": {},
   "outputs": [],
   "source": [
    "df_test"
   ]
  },
  {
   "cell_type": "code",
   "execution_count": null,
   "metadata": {},
   "outputs": [],
   "source": [
    "# Get initial assessment for all patients./\n",
    "# Retuns a df consisting of all the participants initial assessment in one datafram. \n",
    "def initial_assessment_particiapnts(folder_participant):\n",
    "    df_all_list =[]\n",
    "    for participant_folder in os.listdir(folder_participant):\n",
    "        if participant_folder.startswith(\"FT\"):\n",
    "            print(\"participant_folder\",participant_folder)\n",
    "            for weekly_sssessment_file in os.listdir(folder_participant + \"/\" + participant_folder):\n",
    "                if weekly_sssessment_file.startswith(\"init\") and weekly_sssessment_file.endswith(\".csv\"):\n",
    "                    print(\"init\",weekly_sssessment_file)\n",
    "                    print(folder_participant + \"/\" + participant_folder + weekly_sssessment_file)\n",
    "                    df = pd.read_csv(folder_participant + \"/\" + participant_folder +  \"/\" + weekly_sssessment_file , sep=\"#\")\n",
    "                    df[\"patient_id\"] = participant_folder\n",
    "                    #print(df.head())\n",
    "                    df_all_list.append(df)\n",
    "    df_all_ = pd.concat(df_all_list)\n",
    "    return df_all_\n"
   ]
  },
  {
   "cell_type": "code",
   "execution_count": null,
   "metadata": {},
   "outputs": [],
   "source": [
    "df_all_initial_ass = initial_assessment_particiapnts(folder_participant)"
   ]
  },
  {
   "cell_type": "code",
   "execution_count": null,
   "metadata": {},
   "outputs": [],
   "source": [
    "df_all_initial_ass[\"patient_id\"].unique()"
   ]
  },
  {
   "cell_type": "code",
   "execution_count": null,
   "metadata": {},
   "outputs": [],
   "source": [
    "# df_all_initial_ass.to_csv(\"/Users/shehjarsadhu/Desktop/UniversityOfRhodeIsland/Graduate/WBL/Project_Carewell/FTStudyData/CareWellAppGroup/APPGROUP/initial_assessment_all.csv\")\n"
   ]
  },
  {
   "cell_type": "code",
   "execution_count": null,
   "metadata": {},
   "outputs": [],
   "source": []
  },
  {
   "cell_type": "code",
   "execution_count": null,
   "metadata": {},
   "outputs": [],
   "source": [
    "\n",
    "dfw = pd.read_csv(\"/Users/shehjarsadhu/Desktop/UniversityOfRhodeIsland/Graduate/WBL/Project_Carewell/FTStudyData/CareWellAppGroup/APPGROUP/FT-01/weekly_assessmentApr_1_202110_30_42_PM.csv\",sep=\"#\")\n"
   ]
  },
  {
   "cell_type": "code",
   "execution_count": null,
   "metadata": {},
   "outputs": [],
   "source": []
  },
  {
   "cell_type": "code",
   "execution_count": null,
   "metadata": {},
   "outputs": [],
   "source": []
  },
  {
   "cell_type": "code",
   "execution_count": null,
   "metadata": {},
   "outputs": [],
   "source": []
  },
  {
   "cell_type": "code",
   "execution_count": null,
   "metadata": {},
   "outputs": [],
   "source": []
  },
  {
   "cell_type": "code",
   "execution_count": null,
   "metadata": {},
   "outputs": [],
   "source": [
    "def get_all_weekly_assessments(participant_folder):\n",
    "    # Get initial assessment for all patients.\n",
    "    df_all_list = []\n",
    "    for participant_folder in os.listdir(folder_participant):\n",
    "        if participant_folder.startswith(\"FT\"):\n",
    "            print(\"participant_folder\",participant_folder)\n",
    "            for weekly_sssessment_file in os.listdir(folder_participant + \"/\" + participant_folder):\n",
    "                if weekly_sssessment_file.startswith(\"weekly_assessment\") and weekly_sssessment_file.endswith(\".csv\"):\n",
    "                    if weekly_sssessment_file.startswith(\"weekly_assessment_info\"):\n",
    "                        pass\n",
    "                    else:\n",
    "                        print(\"weekly_sssessment_file: \",weekly_sssessment_file)\n",
    "                        #print(\"Weekly Asssessment\",weekly_sssessment_file)\n",
    "                        #print(folder_participant + \"/\" + participant_folder + weekly_sssessment_file)\n",
    "                        df = pd.read_csv(folder_participant + \"/\" + participant_folder +  \"/\" + weekly_sssessment_file , sep=\"#\")\n",
    "                        df[\"patient_id\"] = participant_folder\n",
    "                        #print(df.head())\n",
    "                        df_all_list.append(df)\n",
    "    df_weekly_assessment = pd.concat(df_all_list)\n",
    "    return df_weekly_assessment\n",
    "\n"
   ]
  },
  {
   "cell_type": "code",
   "execution_count": null,
   "metadata": {},
   "outputs": [],
   "source": [
    "\n",
    "df_weekly_assessment = get_all_weekly_assessments(folder_participant)\n"
   ]
  },
  {
   "cell_type": "code",
   "execution_count": null,
   "metadata": {},
   "outputs": [],
   "source": [
    "# df_weeklyassessment.to_csv(\"/Users/shehjarsadhu/Desktop/UniversityOfRhodeIsland/Graduate/WBL/Project_Carewell/FTStudyData/CareWellAppGroup/APPGROUP/weekly_all.csv\")\n"
   ]
  },
  {
   "cell_type": "code",
   "execution_count": null,
   "metadata": {},
   "outputs": [],
   "source": [
    "# Exceptionally Good \n",
    "# Very Good\n",
    "# Good\n",
    "# Adequate \n",
    "# Poor\n",
    "# Very Poor\n",
    "# Test run for one participant.\n",
    "df_wa_16 = pd.read_csv(\"/Users/shehjarsadhu/Desktop/UniversityOfRhodeIsland/Graduate/ResearchWBL/Project_Carewell/FTStudyData/CareWellAppGroup/FT-16/weekly_assessment.csv\")\n",
    "df_wa_16\n"
   ]
  },
  {
   "cell_type": "code",
   "execution_count": null,
   "metadata": {},
   "outputs": [],
   "source": [
    "for idx, val in enumerate(df_wa_16[\"answer\"]):\n",
    "    print(df_wa_16[\"answer\"][idx])\n",
    "    "
   ]
  },
  {
   "cell_type": "code",
   "execution_count": null,
   "metadata": {},
   "outputs": [],
   "source": [
    "\n",
    "for idx,val in enumerate(df_wa_16[\"answer\"]):\n",
    "    if df_wa_16[\"answer\"][idx] == \"Very Good\":\n",
    "        df_wa_16[\"answer\"][idx] = 0\n",
    "    if df_wa_16[\"answer\"][idx] == \"Good\":\n",
    "        df_wa_16[\"answer\"][idx] = 1\n",
    "    if df_wa_16[\"answer\"][idx] == \"Adequate\":\n",
    "        df_wa_16[\"answer\"][idx] = 2\n",
    "    if df_wa_16[\"answer\"][idx] == 'Adequate ':\n",
    "        df_wa_16[\"answer\"][idx] = 2\n",
    "    if df_wa_16[\"answer\"][idx] == \"Very Poor\":\n",
    "        df_wa_16[\"answer\"][idx] = 3"
   ]
  },
  {
   "cell_type": "code",
   "execution_count": null,
   "metadata": {},
   "outputs": [],
   "source": [
    "df_wa_16"
   ]
  },
  {
   "cell_type": "code",
   "execution_count": null,
   "metadata": {},
   "outputs": [],
   "source": [
    "df_wa_16[\"category\"].unique()"
   ]
  },
  {
   "cell_type": "code",
   "execution_count": null,
   "metadata": {},
   "outputs": [],
   "source": [
    "df_wa_16[\"answer\"].unique()"
   ]
  },
  {
   "cell_type": "code",
   "execution_count": null,
   "metadata": {},
   "outputs": [],
   "source": [
    "df_wa_16[df_wa_16[\"category\"] ==\"Family Support\"]\n"
   ]
  },
  {
   "cell_type": "code",
   "execution_count": null,
   "metadata": {},
   "outputs": [],
   "source": [
    "\n",
    "fig = go.Figure(go.Scatter(\n",
    "    y = df_wa_16[df_wa_16[\"category\"] ==\"Family Support\"][\"answer\"]\n",
    "         ))\n",
    "fig.show()\n"
   ]
  },
  {
   "cell_type": "markdown",
   "metadata": {},
   "source": [
    "## Initial Assessment All\n",
    "- Calculate all Concern/No Concern for different Key Areas."
   ]
  },
  {
   "cell_type": "code",
   "execution_count": null,
   "metadata": {},
   "outputs": [],
   "source": [
    "df_init_all_pids = pd.read_csv(\"/Users/shehjarsadhu/Desktop/UniversityOfRhodeIsland/Graduate/WBL/Project_Carewell/FTStudyData/CareWellAppGroup/APPGROUP/initial_assessment_all.csv\")\n"
   ]
  },
  {
   "cell_type": "code",
   "execution_count": null,
   "metadata": {},
   "outputs": [],
   "source": [
    "df_init_all_pids.head()"
   ]
  },
  {
   "cell_type": "code",
   "execution_count": null,
   "metadata": {},
   "outputs": [],
   "source": [
    "df_init_all_pids[\"category\"].unique()"
   ]
  },
  {
   "cell_type": "code",
   "execution_count": null,
   "metadata": {},
   "outputs": [],
   "source": []
  },
  {
   "cell_type": "code",
   "execution_count": null,
   "metadata": {},
   "outputs": [],
   "source": []
  },
  {
   "cell_type": "markdown",
   "metadata": {},
   "source": [
    "-- Initial assessment categories. "
   ]
  },
  {
   "cell_type": "code",
   "execution_count": null,
   "metadata": {},
   "outputs": [],
   "source": [
    "# Get concern / no concern for initial assessment. \n",
    "# Parameters:  Takes in pid_list as .\n",
    "# Returns: No concern percentage for the different key areas.\n",
    "def init_categories(pid_list):\n",
    "    # pid = \"FT-02\" # Get all patient responses. \n",
    "    df_list = [] # columns = ['FamilyFunctioning', 'SocialSupport', 'Mood/Depression','Health']\n",
    "    for pid in pid_list:\n",
    "        print(pid)\n",
    "        df_p = df_init_all_pids[df_init_all_pids[\"patient_id\"]==pid]\n",
    "        total_ff = 8\n",
    "        total_ss = 9\n",
    "        total_md = 7\n",
    "        total_he = 7\n",
    "        ff = df_p[df_p[\"category\"]==\"Family Functioning\"] \n",
    "        ss = df_p[df_p[\"category\"]==\"Social Support\"]\n",
    "        md = df_p[df_p[\"category\"]==\"Mood/Depression\"]\n",
    "        he = df_p[df_p[\"category\"]==\"Health\"]\n",
    "        # Concern/No Concern labels for Family Functioning.\n",
    "        ff_yes_percentage = ff[\"answer1\"].value_counts()[0]/total_ff*100 # No concen  \n",
    "        ss_yes_percentage = ss[\"answer1\"].value_counts()[0]/total_ss*100\n",
    "        md_yes_percentage = md[\"answer1\"].value_counts()[0]/total_md*100\n",
    "        he_yes_percentage = he[\"answer1\"].value_counts()[0]/total_he*100\n",
    "\n",
    "        df_concern_noconcern = pd.DataFrame([[ff_yes_percentage,ss_yes_percentage,md_yes_percentage,he_yes_percentage]]) \n",
    "        df_concern_noconcern[\"PatientID\"] = pid\n",
    "        df_list.append(df_concern_noconcern)\n",
    "    df_int = pd.concat(df_list)\n",
    "    return df_int\n",
    "\n"
   ]
  },
  {
   "cell_type": "code",
   "execution_count": null,
   "metadata": {},
   "outputs": [],
   "source": [
    "df_int = init_categories(pid_list)"
   ]
  },
  {
   "cell_type": "code",
   "execution_count": null,
   "metadata": {},
   "outputs": [],
   "source": [
    "# df_int.to_csv(\"/Users/shehjarsadhu/Desktop/UniversityOfRhodeIsland/Graduate/WBL/Project_Carewell/FTStudyData/CareWellAppGroup/APPGROUP/init_assessment_concern_noconcern.csv\")\n"
   ]
  },
  {
   "cell_type": "code",
   "execution_count": null,
   "metadata": {},
   "outputs": [],
   "source": []
  },
  {
   "cell_type": "code",
   "execution_count": null,
   "metadata": {},
   "outputs": [],
   "source": []
  },
  {
   "cell_type": "code",
   "execution_count": null,
   "metadata": {},
   "outputs": [],
   "source": [
    "# print(\"Yes\",ff[\"answer1\"].value_counts()[0]/total_ff*100) #Yes\n",
    "# print(\"No\",ff[\"answer1\"].value_counts()[1]/total_ff*100) #No"
   ]
  },
  {
   "cell_type": "code",
   "execution_count": null,
   "metadata": {},
   "outputs": [],
   "source": [
    "# print(\"Yes\",ss[\"answer1\"].value_counts()[0]/total_ss*100) #Yes.\n",
    "# print(\"No\",ss[\"answer1\"].value_counts()[1]/total_ss*100) #No."
   ]
  },
  {
   "cell_type": "code",
   "execution_count": null,
   "metadata": {},
   "outputs": [],
   "source": [
    "# print(\"Yes\",md[\"answer1\"].value_counts()[0]/total_md*100) #Yes.\n",
    "# print(\"No\", md[\"answer1\"].value_counts()[1]/total_md*100) #No."
   ]
  },
  {
   "cell_type": "code",
   "execution_count": null,
   "metadata": {
    "scrolled": true
   },
   "outputs": [],
   "source": [
    "# print(\"Yes\", he[\"answer1\"].value_counts()[0]/total_he*100) #Yes.\n",
    "# print(\"No\", he[\"answer1\"].value_counts()[1]/total_he*100) #No."
   ]
  },
  {
   "cell_type": "code",
   "execution_count": null,
   "metadata": {},
   "outputs": [],
   "source": [
    "## Ploting for usage data.\n",
    "df_list_total  = []\n",
    "for idx,val in enumerate(pid_list):\n",
    "    print(val)\n",
    "    print('/Users/shehjarsadhu/Desktop/UniversityOfRhodeIsland/Graduate/WBL/Project_Carewell/FTStudyData/CareWellAppGroup/APPGROUP/' + val + '/carewell-database.db')\n",
    "    # Create your connection.\n",
    "    cnx = sqlite3.connect('/Users/shehjarsadhu/Desktop/UniversityOfRhodeIsland/Graduate/WBL/Project_Carewell/FTStudyData/CareWellAppGroup/APPGROUP/' + val + '/carewell-database.db')\n",
    "    df = pd.read_sql_query(\"SELECT * FROM usage_tracker_entry\", cnx)\n",
    "    df = mins_df_diff(df)# Add the usage diff column for mins times.\n",
    "    df_totals = return_total(df) # Totals per category.\n",
    "    df_totals[\"pid\"]= val\n",
    "    \n",
    "    fig = go.Figure(data=[go.Bar(\n",
    "                y=df_totals[\"totals\"], x=df_totals[\"categories\"],\n",
    "                text=df_totals[\"totals\"],\n",
    "                textposition='auto',\n",
    "            )])\n",
    "    fig.update_layout(\n",
    "        title={\n",
    "            'text': \"A bar plot of total number of mins spent per participant (\" + val +\")\" + \"\\n Total mins = \" + str(df_totals[\"totals\"].sum()),\n",
    "            'y':0.95,\n",
    "            'x':0.5,\n",
    "            'xanchor': 'center',\n",
    "            'yanchor': 'top'})\n",
    "    fig.show()\n",
    "\n",
    "    df_list_total.append(df_totals)"
   ]
  },
  {
   "cell_type": "markdown",
   "metadata": {},
   "source": [
    "## BT-02 High usage Issue for managing care"
   ]
  },
  {
   "cell_type": "code",
   "execution_count": null,
   "metadata": {},
   "outputs": [],
   "source": [
    "p_id = \"FT-20\"\n",
    "# Create your connection.\n",
    "cnx = sqlite3.connect(\"/Users/shehjarsadhu/Desktop/UniversityOfRhodeIsland/Graduate/WBL/Project_Carewell/BT/App_Data_Extraction_TM/BT-02/database.db\")\n",
    "df_bt2 = pd.read_sql_query(\"SELECT * FROM usage_tracker_entry\", cnx)\n",
    "\n",
    "\n"
   ]
  },
  {
   "cell_type": "code",
   "execution_count": null,
   "metadata": {},
   "outputs": [],
   "source": [
    "df_bt2_mins = mins_df_diff(df_bt2)"
   ]
  },
  {
   "cell_type": "code",
   "execution_count": null,
   "metadata": {},
   "outputs": [],
   "source": [
    "# Get initial\n",
    "folder_participant = \"/Users/shehjarsadhu/Desktop/UniversityOfRhodeIsland/Graduate/WBL/Project_Carewell/BT/App_Data_Extraction_TM/\"\n",
    "#folder_participant = \"/Users/shehjarsadhu/Desktop/UniversityOfRhodeIsland/Graduate/WBL/Project_Carewell/BT/App_Data_Extraction_TM/BT-07\"\n",
    "\n",
    "df_all_list =[]\n",
    "for participant_folder in os.listdir(folder_participant):\n",
    "    if participant_folder.startswith(\"BT\"):\n",
    "        print(\"participant_folder\",folder_participant)\n",
    "#         for weekly_sssessment_file in os.listdir(folder_participant + \"/\" + participant_folder):\n",
    "#             if weekly_sssessment_file.startswith(\"weekly_assessment\") and weekly_sssessment_file.endswith(\".csv\"):\n",
    "#                 print(\"weekly_sssessment_file\",weekly_sssessment_file)\n",
    "#                 if weekly_sssessment_file.startswith(\"weekly_assessment_info\"):\n",
    "#                     pass\n",
    "#                 else:\n",
    "#                     print(folder_participant + \"/\" + participant_folder + weekly_sssessment_file)\n",
    "#                     df = pd.read_csv(folder_participant + \"/\" + participant_folder + weekly_sssessment_file , sep=\"#\")\n",
    "#                     df_all_list.append(df)\n",
    "#                     print(df)\n",
    "#                     print(df.columns)\n"
   ]
  },
  {
   "cell_type": "code",
   "execution_count": null,
   "metadata": {},
   "outputs": [],
   "source": [
    "df_bt2_mins.to_csv(\"/Users/shehjarsadhu/Desktop/usage_BT.csv\")"
   ]
  },
  {
   "cell_type": "code",
   "execution_count": null,
   "metadata": {},
   "outputs": [],
   "source": [
    "def return_total(df):\n",
    "    education_sum = 0 \n",
    "    managing_care_sum = 0\n",
    "    youtube_channel_sum = 0\n",
    "    dashboard_sum = 0\n",
    "    community_sum = 0\n",
    "    goals_sum = 0\n",
    "    for idx,val in enumerate(df[\"location\"]):\n",
    "        if((\"Education\" in val) == True):\n",
    "            education_sum+=df[\"UsageDiff\"][idx]\n",
    "        if((\"Managing\" in val) == True):\n",
    "            managing_care_sum+=df[\"UsageDiff\"][idx]\n",
    "        if((\"Media\" in val) == True):\n",
    "            youtube_channel_sum+=df[\"UsageDiff\"][idx]\n",
    "        if((\"Dashboard\" in val) == True):\n",
    "            youtube_channel_sum+=df[\"UsageDiff\"][idx]\n",
    "        if((\"Community\" in val) == True):\n",
    "            community_sum+=df[\"UsageDiff\"][idx]\n",
    "        if((\"Reminder\" in val) == True):\n",
    "            goals_sum+=df[\"UsageDiff\"][idx]\n",
    "#     d = { \"totals\": [education_sum, managing_care_sum, youtube_channel_sum, dashboard_sum ,community_sum,goals_sum] ,\n",
    "#         \"categories\": [\"Education\",\"ManagingCare\",\"YoutubeChannel\", \"Dashboard\",\"Community\",\"Reminders\"]}\n",
    "#     df_totals = pd.DataFrame(d)\n",
    "#     return df_totals\n",
    "# df_totals = return_total(df)\n",
    "# df_totals[\"totals\"].sum()\n",
    "\n"
   ]
  },
  {
   "cell_type": "markdown",
   "metadata": {},
   "source": [
    "## FT-09 High usage Issue for managing care"
   ]
  },
  {
   "cell_type": "code",
   "execution_count": null,
   "metadata": {},
   "outputs": [],
   "source": []
  },
  {
   "cell_type": "code",
   "execution_count": null,
   "metadata": {},
   "outputs": [],
   "source": []
  },
  {
   "cell_type": "code",
   "execution_count": null,
   "metadata": {},
   "outputs": [],
   "source": [
    "\n"
   ]
  },
  {
   "cell_type": "code",
   "execution_count": null,
   "metadata": {},
   "outputs": [],
   "source": []
  },
  {
   "cell_type": "code",
   "execution_count": null,
   "metadata": {},
   "outputs": [],
   "source": []
  },
  {
   "cell_type": "code",
   "execution_count": null,
   "metadata": {},
   "outputs": [],
   "source": []
  },
  {
   "cell_type": "code",
   "execution_count": null,
   "metadata": {},
   "outputs": [],
   "source": []
  }
 ],
 "metadata": {
  "kernelspec": {
   "display_name": "Python 3",
   "language": "python",
   "name": "python3"
  },
  "language_info": {
   "codemirror_mode": {
    "name": "ipython",
    "version": 3
   },
   "file_extension": ".py",
   "mimetype": "text/x-python",
   "name": "python",
   "nbconvert_exporter": "python",
   "pygments_lexer": "ipython3",
   "version": "3.7.9"
  }
 },
 "nbformat": 4,
 "nbformat_minor": 5
}
