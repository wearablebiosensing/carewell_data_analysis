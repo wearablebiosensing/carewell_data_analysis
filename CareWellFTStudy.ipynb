{
 "cells": [
  {
   "cell_type": "code",
   "execution_count": 97,
   "metadata": {},
   "outputs": [],
   "source": [
    "import datetime\n",
    "import sqlite3\n",
    "import numpy as np\n",
    "import pandas as pd\n",
    "import plotly as py\n",
    "import plotly.express as px\n",
    "import plotly.graph_objects as go\n",
    "import os\n"
   ]
  },
  {
   "cell_type": "code",
   "execution_count": null,
   "metadata": {},
   "outputs": [],
   "source": []
  },
  {
   "cell_type": "code",
   "execution_count": null,
   "metadata": {},
   "outputs": [],
   "source": [
    "# [FT-04, FT-11,FT-14,FT-16,FT-20]\n",
    "p_id = \"FT-20\"\n",
    "# Create your connection.\n",
    "cnx = sqlite3.connect('/Users/shehjarsadhu/Desktop/UniversityOfRhodeIsland/Graduate/ResearchWBL/Project_Carewell/FTStudyData/CareWellAppGroup/' + p_id + '/FT-20_carewell-database.db')\n",
    "df = pd.read_sql_query(\"SELECT * FROM usage_tracker_entry\", cnx)\n",
    "\n",
    "\n"
   ]
  },
  {
   "cell_type": "code",
   "execution_count": null,
   "metadata": {},
   "outputs": [],
   "source": [
    "df"
   ]
  },
  {
   "cell_type": "code",
   "execution_count": null,
   "metadata": {},
   "outputs": [],
   "source": [
    "# Convert unix time stamp and set it into mins. Then take the diff between start and end timestamp.\n",
    "# Takes in the df ans return the timestamp difference of unix timestams in mins.\n",
    "def mins_df_diff(df):\n",
    "    mins_diff = []\n",
    "    for s,e in zip(df[\"start_date\"], df[\"end_date\"]):\n",
    "        # Round to remove the last three digits of the number.\n",
    "        converted_d1 = datetime.datetime.fromtimestamp(round(s / 1000)) \n",
    "        converted_d2 = datetime.datetime.fromtimestamp(round(e / 1000))\n",
    "        mins_diff.append((converted_d2 - converted_d1).total_seconds() / 60) # This is in Mins.\n",
    "    mins_diff_np = np.asarray(mins_diff) # covert to np so that can easily append to df.\n",
    "    df[\"UsageDiff\"] = mins_diff_np\n",
    "    return df\n"
   ]
  },
  {
   "cell_type": "code",
   "execution_count": null,
   "metadata": {},
   "outputs": [],
   "source": [
    "df = mins_df_diff(df)"
   ]
  },
  {
   "cell_type": "code",
   "execution_count": null,
   "metadata": {},
   "outputs": [],
   "source": [
    "def return_total(df):\n",
    "    education_sum = 0 \n",
    "    managing_care_sum = 0\n",
    "    youtube_channel_sum = 0\n",
    "    dashboard_sum = 0\n",
    "    community_sum = 0\n",
    "    goals_sum = 0\n",
    "    for idx,val in enumerate(df[\"location\"]):\n",
    "        if((\"Education\" in val) == True):\n",
    "            education_sum+=df[\"UsageDiff\"][idx]\n",
    "        if((\"Managing\" in val) == True):\n",
    "            managing_care_sum+=df[\"UsageDiff\"][idx]\n",
    "        if((\"Media\" in val) == True):\n",
    "            youtube_channel_sum+=df[\"UsageDiff\"][idx]\n",
    "        if((\"Dashboard\" in val) == True):\n",
    "            youtube_channel_sum+=df[\"UsageDiff\"][idx]\n",
    "        if((\"Community\" in val) == True):\n",
    "            community_sum+=df[\"UsageDiff\"][idx]\n",
    "        if((\"Reminder\" in val) == True):\n",
    "            goals_sum+=df[\"UsageDiff\"][idx]\n",
    "    d = { \"totals\": [education_sum, managing_care_sum, youtube_channel_sum, dashboard_sum ,community_sum,goals_sum] ,\n",
    "        \"categories\": [\"Education\",\"ManagingCare\",\"YoutubeChannel\", \"Dashboard\",\"Community\",\"Reminders\"]}\n",
    "    df_totals = pd.DataFrame(d)\n",
    "    return df_totals\n",
    "df_totals = return_total(df)\n",
    "df_totals[\"totals\"].sum()"
   ]
  },
  {
   "cell_type": "code",
   "execution_count": null,
   "metadata": {},
   "outputs": [],
   "source": [
    "\n",
    "fig = go.Figure(data=[go.Bar(\n",
    "            y=df_totals[\"totals\"], x=df_totals[\"categories\"],\n",
    "            text=df_totals[\"totals\"],\n",
    "            textposition='auto',\n",
    "        )])\n",
    "fig.update_layout(\n",
    "    title={\n",
    "        'text': \"A bar plot of total number of mins spent per participant (\" + p_id +\")\",\n",
    "        'y':0.95,\n",
    "        'x':0.5,\n",
    "        'xanchor': 'center',\n",
    "        'yanchor': 'top'})\n",
    "fig.show()\n"
   ]
  },
  {
   "cell_type": "markdown",
   "metadata": {},
   "source": [
    "# Uage analysis for all participants"
   ]
  },
  {
   "cell_type": "code",
   "execution_count": 2,
   "metadata": {},
   "outputs": [],
   "source": [
    "\n",
    "pid_list = [\"FT-01\",\"FT-02\",\"FT-04\", \"FT-07\",\"FT-11\",\"FT-12\",\"FT-14\",\"FT-16\",\"FT-20\",\"FT-24\",\"FT-25\",\"FT-26\",\"FT-28\",\"FT-29\",\"FT-40\",\"FT-39\",\"FT-30\"]\n",
    "\n"
   ]
  },
  {
   "cell_type": "code",
   "execution_count": 3,
   "metadata": {},
   "outputs": [],
   "source": [
    "\n",
    "# cnx = sqlite3.connect(\"/Users/shehjarsadhu/Desktop/UniversityOfRhodeIsland/Graduate/WBL/Project_Carewell/FTStudyData/CareWellAppGroup/APPGROUP/FT-01/carewell-database.db\")\n",
    "#                       #\"/Users/shehjarsadhu/Desktop/UniversityOfRhodeIsland/Graduate/WBL/Project_Carewell/FTStudyData/CareWellAppGroup/APPGROUP/FT-01/carewell-database.db\"\n",
    "# df = pd.read_sql_query(\"SELECT * FROM usage_tracker_entry\", cnx)\n",
    "# df\n"
   ]
  },
  {
   "cell_type": "code",
   "execution_count": 4,
   "metadata": {},
   "outputs": [
    {
     "name": "stdout",
     "output_type": "stream",
     "text": [
      "FT-01\n",
      "FT-02\n",
      "FT-04\n",
      "FT-07\n",
      "FT-11\n",
      "FT-12\n",
      "FT-14\n",
      "FT-16\n",
      "FT-20\n",
      "FT-24\n",
      "FT-25\n",
      "FT-26\n",
      "FT-28\n",
      "FT-29\n",
      "FT-40\n",
      "FT-39\n",
      "FT-30\n"
     ]
    }
   ],
   "source": [
    "for idx,val in enumerate(pid_list):\n",
    "    print(val)"
   ]
  },
  {
   "cell_type": "code",
   "execution_count": 33,
   "metadata": {},
   "outputs": [
    {
     "name": "stdout",
     "output_type": "stream",
     "text": [
      "FT-01\n",
      "/Users/shehjarsadhu/Desktop/UniversityOfRhodeIsland/Graduate/WBL/Project_Carewell/FTStudyData/CareWellAppGroup/APPGROUP/FT-01/carewell-database.db\n",
      "   entry_id  prev_key  next_key            location       next_location  \\\n",
      "0         1         0         2       main_activity            CareWell   \n",
      "1         2         1         3            CareWell  application_closed   \n",
      "2         3         2         4  application_closed       main_activity   \n",
      "3         4         3         5       main_activity  application_closed   \n",
      "4         5         4         6  application_closed           Dashboard   \n",
      "\n",
      "        prev_location     start_date       end_date    PID  \n",
      "0  application_closed  1614627806630  1614627806630  FT-01  \n",
      "1       main_activity  1614627806630  1614627806727  FT-01  \n",
      "2            CareWell  1614627806727  1614627806736  FT-01  \n",
      "3  application_closed  1614627806736  1614627807397  FT-01  \n",
      "4       main_activity  1614627807397  1614628073518  FT-01  \n",
      "FT-02\n",
      "/Users/shehjarsadhu/Desktop/UniversityOfRhodeIsland/Graduate/WBL/Project_Carewell/FTStudyData/CareWellAppGroup/APPGROUP/FT-02/carewell-database.db\n",
      "   entry_id  prev_key  next_key            location       next_location  \\\n",
      "0         1         0         2       main_activity            CareWell   \n",
      "1         2         1         3            CareWell  application_closed   \n",
      "2         3         2         4  application_closed       main_activity   \n",
      "3         4         3         5       main_activity  application_closed   \n",
      "4         5         4         6  application_closed           Education   \n",
      "\n",
      "        prev_location     start_date       end_date    PID  \n",
      "0  application_closed  1611785237004  1611785237004  FT-02  \n",
      "1       main_activity  1611785237004  1611785237095  FT-02  \n",
      "2            CareWell  1611785237095  1611785237105  FT-02  \n",
      "3  application_closed  1611785237105  1611785237766  FT-02  \n",
      "4       main_activity  1611785237766  1611785261262  FT-02  \n",
      "FT-04\n",
      "/Users/shehjarsadhu/Desktop/UniversityOfRhodeIsland/Graduate/WBL/Project_Carewell/FTStudyData/CareWellAppGroup/APPGROUP/FT-04/carewell-database.db\n",
      "   entry_id  prev_key  next_key            location       next_location  \\\n",
      "0         1         0         2       main_activity  application_closed   \n",
      "1         2         1         3  application_closed            CareWell   \n",
      "2         3         2         4            CareWell  application_closed   \n",
      "3         4         3         5  application_closed       main_activity   \n",
      "4         5         4         6       main_activity  application_closed   \n",
      "\n",
      "        prev_location     start_date       end_date    PID  \n",
      "0  application_closed  1606838278772  1606838278772  FT-04  \n",
      "1       main_activity  1606838278772  1606838302589  FT-04  \n",
      "2  application_closed  1606838302589  1606838302710  FT-04  \n",
      "3            CareWell  1606838302710  1606838302714  FT-04  \n",
      "4  application_closed  1606838302714  1606838303526  FT-04  \n",
      "FT-07\n",
      "/Users/shehjarsadhu/Desktop/UniversityOfRhodeIsland/Graduate/WBL/Project_Carewell/FTStudyData/CareWellAppGroup/APPGROUP/FT-07/carewell-database.db\n",
      "   entry_id  prev_key  next_key            location       next_location  \\\n",
      "0         1         0         2       main_activity            CareWell   \n",
      "1         2         1         3            CareWell  application_closed   \n",
      "2         3         2         4  application_closed       main_activity   \n",
      "3         4         3         5       main_activity  application_closed   \n",
      "4         5         4         6  application_closed           Dashboard   \n",
      "\n",
      "        prev_location     start_date       end_date    PID  \n",
      "0  application_closed  1613418018483  1613418018483  FT-07  \n",
      "1       main_activity  1613418018483  1613418018569  FT-07  \n",
      "2            CareWell  1613418018569  1613418018579  FT-07  \n",
      "3  application_closed  1613418018579  1613418019245  FT-07  \n",
      "4       main_activity  1613418019245  1613418040242  FT-07  \n",
      "FT-11\n",
      "/Users/shehjarsadhu/Desktop/UniversityOfRhodeIsland/Graduate/WBL/Project_Carewell/FTStudyData/CareWellAppGroup/APPGROUP/FT-11/carewell-database.db\n",
      "   entry_id  prev_key  next_key            location       next_location  \\\n",
      "0         1         0         2       main_activity            CareWell   \n",
      "1         2         1         3            CareWell  application_closed   \n",
      "2         3         2         4  application_closed       main_activity   \n",
      "3         4         3         5       main_activity  application_closed   \n",
      "4         5         4         6  application_closed           Dashboard   \n",
      "\n",
      "        prev_location     start_date       end_date    PID  \n",
      "0  application_closed  1609256542567  1609256542567  FT-11  \n",
      "1       main_activity  1609256542567  1609256542632  FT-11  \n",
      "2            CareWell  1609256542632  1609256542637  FT-11  \n",
      "3  application_closed  1609256542637  1609256543081  FT-11  \n",
      "4       main_activity  1609256543081  1609256570072  FT-11  \n",
      "FT-12\n",
      "/Users/shehjarsadhu/Desktop/UniversityOfRhodeIsland/Graduate/WBL/Project_Carewell/FTStudyData/CareWellAppGroup/APPGROUP/FT-12/carewell-database.db\n",
      "   entry_id  prev_key  next_key            location       next_location  \\\n",
      "0         1         0         2       main_activity            CareWell   \n",
      "1         2         1         3            CareWell  application_closed   \n",
      "2         3         2         4  application_closed       main_activity   \n",
      "3         4         3         5       main_activity  application_closed   \n",
      "4         5         4         6  application_closed           Dashboard   \n",
      "\n",
      "        prev_location     start_date       end_date    PID  \n",
      "0  application_closed  1617130554767  1617130554767  FT-12  \n",
      "1       main_activity  1617130554767  1617130554887  FT-12  \n",
      "2            CareWell  1617130554887  1617130554896  FT-12  \n",
      "3  application_closed  1617130554896  1617130555584  FT-12  \n",
      "4       main_activity  1617130555584  1617130578999  FT-12  \n",
      "FT-14\n",
      "/Users/shehjarsadhu/Desktop/UniversityOfRhodeIsland/Graduate/WBL/Project_Carewell/FTStudyData/CareWellAppGroup/APPGROUP/FT-14/carewell-database.db\n",
      "   entry_id  prev_key  next_key            location       next_location  \\\n",
      "0         1         0         2       main_activity            CareWell   \n",
      "1         2         1         3            CareWell  application_closed   \n",
      "2         3         2         4  application_closed       main_activity   \n",
      "3         4         3         5       main_activity  application_closed   \n",
      "4         5         4         6  application_closed           Dashboard   \n",
      "\n",
      "        prev_location     start_date       end_date    PID  \n",
      "0  application_closed  1607543917765  1607543917765  FT-14  \n",
      "1       main_activity  1607543917765  1607543917843  FT-14  \n",
      "2            CareWell  1607543917843  1607543917849  FT-14  \n",
      "3  application_closed  1607543917849  1607543918152  FT-14  \n",
      "4       main_activity  1607543918152  1607543934916  FT-14  \n",
      "FT-16\n",
      "/Users/shehjarsadhu/Desktop/UniversityOfRhodeIsland/Graduate/WBL/Project_Carewell/FTStudyData/CareWellAppGroup/APPGROUP/FT-16/carewell-database.db\n",
      "   entry_id  prev_key  next_key            location       next_location  \\\n",
      "0         1         0         2       main_activity            CareWell   \n",
      "1         2         1         3            CareWell  application_closed   \n",
      "2         3         2         4  application_closed       main_activity   \n",
      "3         4         3         5       main_activity  application_closed   \n",
      "4         5         4         6  application_closed           Dashboard   \n",
      "\n",
      "        prev_location     start_date       end_date    PID  \n",
      "0  application_closed  1616612415095  1616612415095  FT-16  \n",
      "1       main_activity  1616612415095  1616612415186  FT-16  \n",
      "2            CareWell  1616612415186  1616612415197  FT-16  \n",
      "3  application_closed  1616612415197  1616612415917  FT-16  \n",
      "4       main_activity  1616612415917  1616612465384  FT-16  \n",
      "FT-20\n",
      "/Users/shehjarsadhu/Desktop/UniversityOfRhodeIsland/Graduate/WBL/Project_Carewell/FTStudyData/CareWellAppGroup/APPGROUP/FT-20/carewell-database.db\n",
      "   entry_id  prev_key  next_key            location       next_location  \\\n",
      "0         1         0         2       main_activity            CareWell   \n",
      "1         2         1         3            CareWell  application_closed   \n",
      "2         3         2         4  application_closed       main_activity   \n",
      "3         4         3         5       main_activity  application_closed   \n",
      "4         5         4         6  application_closed           Video Hub   \n",
      "\n",
      "        prev_location     start_date       end_date    PID  \n",
      "0  application_closed  1608587531741  1608587531741  FT-20  \n",
      "1       main_activity  1608587531741  1608587531839  FT-20  \n",
      "2            CareWell  1608587531839  1608587531850  FT-20  \n",
      "3  application_closed  1608587531850  1608587532562  FT-20  \n",
      "4       main_activity  1608587532562  1608587544326  FT-20  \n",
      "FT-24\n",
      "/Users/shehjarsadhu/Desktop/UniversityOfRhodeIsland/Graduate/WBL/Project_Carewell/FTStudyData/CareWellAppGroup/APPGROUP/FT-24/carewell-database.db\n",
      "   entry_id  prev_key  next_key            location       next_location  \\\n",
      "0         1         0         2       main_activity            CareWell   \n",
      "1         2         1         3            CareWell  application_closed   \n",
      "2         3         2         4  application_closed       main_activity   \n",
      "3         4         3         5       main_activity  application_closed   \n",
      "4         5         4         6  application_closed           Dashboard   \n",
      "\n",
      "        prev_location     start_date       end_date    PID  \n",
      "0  application_closed  1621276749520  1621276749520  FT-24  \n",
      "1       main_activity  1621276749520  1621276749621  FT-24  \n",
      "2            CareWell  1621276749621  1621276749632  FT-24  \n",
      "3  application_closed  1621276749632  1621276750388  FT-24  \n",
      "4       main_activity  1621276750388  1621276766118  FT-24  \n",
      "FT-25\n",
      "/Users/shehjarsadhu/Desktop/UniversityOfRhodeIsland/Graduate/WBL/Project_Carewell/FTStudyData/CareWellAppGroup/APPGROUP/FT-25/carewell-database.db\n",
      "   entry_id  prev_key  next_key            location       next_location  \\\n",
      "0         1         0         2       main_activity            CareWell   \n",
      "1         2         1         3            CareWell  application_closed   \n",
      "2         3         2         4  application_closed       main_activity   \n",
      "3         4         3         5       main_activity  application_closed   \n",
      "4         5         4         6  application_closed           Dashboard   \n",
      "\n",
      "        prev_location     start_date       end_date    PID  \n",
      "0  application_closed  1622227602473  1622227602473  FT-25  \n",
      "1       main_activity  1622227602473  1622227602587  FT-25  \n",
      "2            CareWell  1622227602587  1622227602597  FT-25  \n",
      "3  application_closed  1622227602597  1622227603384  FT-25  \n",
      "4       main_activity  1622227603384  1622227624170  FT-25  \n",
      "FT-26\n",
      "/Users/shehjarsadhu/Desktop/UniversityOfRhodeIsland/Graduate/WBL/Project_Carewell/FTStudyData/CareWellAppGroup/APPGROUP/FT-26/carewell-database.db\n",
      "   entry_id  prev_key  next_key            location       next_location  \\\n",
      "0         1         0         2       main_activity            CareWell   \n",
      "1         2         1         3            CareWell  application_closed   \n",
      "2         3         2         4  application_closed       main_activity   \n",
      "3         4         3         5       main_activity  application_closed   \n",
      "4         5         4         6  application_closed           Education   \n",
      "\n",
      "        prev_location     start_date       end_date    PID  \n",
      "0  application_closed  1623265515187  1623265515187  FT-26  \n",
      "1       main_activity  1623265515187  1623265515278  FT-26  \n",
      "2            CareWell  1623265515278  1623265515288  FT-26  \n",
      "3  application_closed  1623265515288  1623265516005  FT-26  \n",
      "4       main_activity  1623265516005  1623265549297  FT-26  \n",
      "FT-28\n",
      "/Users/shehjarsadhu/Desktop/UniversityOfRhodeIsland/Graduate/WBL/Project_Carewell/FTStudyData/CareWellAppGroup/APPGROUP/FT-28/carewell-database.db\n",
      "   entry_id  prev_key  next_key            location       next_location  \\\n",
      "0         1         0         2       main_activity            CareWell   \n",
      "1         2         1         3            CareWell  application_closed   \n",
      "2         3         2         4  application_closed       main_activity   \n",
      "3         4         3         5       main_activity  application_closed   \n",
      "4         5         4         6  application_closed           Dashboard   \n",
      "\n",
      "        prev_location     start_date       end_date    PID  \n",
      "0  application_closed  1625243350836  1625243350836  FT-28  \n",
      "1       main_activity  1625243350836  1625243350964  FT-28  \n",
      "2            CareWell  1625243350964  1625243350978  FT-28  \n",
      "3  application_closed  1625243350978  1625243351851  FT-28  \n",
      "4       main_activity  1625243351851  1625243399774  FT-28  \n",
      "FT-29\n",
      "/Users/shehjarsadhu/Desktop/UniversityOfRhodeIsland/Graduate/WBL/Project_Carewell/FTStudyData/CareWellAppGroup/APPGROUP/FT-29/carewell-database.db\n",
      "   entry_id  prev_key  next_key            location       next_location  \\\n",
      "0         1         0         2       main_activity            CareWell   \n",
      "1         2         1         3            CareWell  application_closed   \n",
      "2         3         2         4  application_closed       main_activity   \n",
      "3         4         3         5       main_activity  application_closed   \n",
      "4         5         4         6  application_closed           Dashboard   \n",
      "\n",
      "        prev_location     start_date       end_date    PID  \n",
      "0  application_closed  1627062981065  1627062981065  FT-29  \n",
      "1       main_activity  1627062981065  1627062981207  FT-29  \n",
      "2            CareWell  1627062981207  1627062981216  FT-29  \n",
      "3  application_closed  1627062981216  1627062981981  FT-29  \n",
      "4       main_activity  1627062981981  1627063005313  FT-29  \n",
      "FT-40\n",
      "/Users/shehjarsadhu/Desktop/UniversityOfRhodeIsland/Graduate/WBL/Project_Carewell/FTStudyData/CareWellAppGroup/APPGROUP/FT-40/carewell-database.db\n",
      "   entry_id  prev_key  next_key            location       next_location  \\\n",
      "0         1         0         2       main_activity            CareWell   \n",
      "1         2         1         3            CareWell  application_closed   \n",
      "2         3         2         4  application_closed       main_activity   \n",
      "3         4         3         5       main_activity  application_closed   \n",
      "4         5         4         6  application_closed           Dashboard   \n",
      "\n",
      "        prev_location     start_date       end_date    PID  \n",
      "0  application_closed  1645728902163  1645728902163  FT-40  \n",
      "1       main_activity  1645728902163  1645728902246  FT-40  \n",
      "2            CareWell  1645728902246  1645728902257  FT-40  \n",
      "3  application_closed  1645728902257  1645728903076  FT-40  \n",
      "4       main_activity  1645728903076  1645728954820  FT-40  \n",
      "FT-39\n",
      "/Users/shehjarsadhu/Desktop/UniversityOfRhodeIsland/Graduate/WBL/Project_Carewell/FTStudyData/CareWellAppGroup/APPGROUP/FT-39/carewell-database.db\n",
      "   entry_id  prev_key  next_key            location       next_location  \\\n",
      "0         1         0         2       main_activity            CareWell   \n",
      "1         2         1         3            CareWell  application_closed   \n",
      "2         3         2         4  application_closed       main_activity   \n",
      "3         4         3         5       main_activity  application_closed   \n",
      "4         5         4         6  application_closed           Dashboard   \n",
      "\n",
      "        prev_location     start_date       end_date    PID  \n",
      "0  application_closed  1644512613236  1644512613236  FT-39  \n",
      "1       main_activity  1644512613236  1644512613316  FT-39  \n",
      "2            CareWell  1644512613316  1644512613325  FT-39  \n",
      "3  application_closed  1644512613325  1644512614026  FT-39  \n",
      "4       main_activity  1644512614026  1644512639612  FT-39  \n",
      "FT-30\n",
      "/Users/shehjarsadhu/Desktop/UniversityOfRhodeIsland/Graduate/WBL/Project_Carewell/FTStudyData/CareWellAppGroup/APPGROUP/FT-30/carewell-database.db\n",
      "   entry_id  prev_key  next_key            location       next_location  \\\n",
      "0         1         0         2       main_activity            CareWell   \n",
      "1         2         1         3            CareWell  application_closed   \n",
      "2         3         2         4  application_closed       main_activity   \n",
      "3         4         3         5       main_activity  application_closed   \n",
      "4         5         4         6  application_closed           Dashboard   \n",
      "\n",
      "        prev_location     start_date       end_date    PID  \n",
      "0  application_closed  1627411765381  1627411765381  FT-30  \n",
      "1       main_activity  1627411765381  1627411765474  FT-30  \n",
      "2            CareWell  1627411765474  1627411765483  FT-30  \n",
      "3  application_closed  1627411765483  1627411766230  FT-30  \n",
      "4       main_activity  1627411766230  1627411799605  FT-30  \n"
     ]
    }
   ],
   "source": [
    "df_list_total  = []\n",
    "df_list_all = []\n",
    "for idx,val in enumerate(pid_list):\n",
    "    print(val)\n",
    "#     #/Users/shehjarsadhu/Desktop/UniversityOfRhodeIsland/Graduate/WBL/Project_Carewell/FTStudyData/CareWellAppGroup/APPGROUP/FT-01/carewell-database.db\n",
    "    print('/Users/shehjarsadhu/Desktop/UniversityOfRhodeIsland/Graduate/WBL/Project_Carewell/FTStudyData/CareWellAppGroup/APPGROUP/' + val + '/carewell-database.db')\n",
    "    # Create your connection.\n",
    "    cnx = sqlite3.connect('/Users/shehjarsadhu/Desktop/UniversityOfRhodeIsland/Graduate/WBL/Project_Carewell/FTStudyData/CareWellAppGroup/APPGROUP/' + val + '/carewell-database.db')\n",
    "    df = pd.read_sql_query(\"SELECT * FROM usage_tracker_entry\", cnx)\n",
    "    df[\"PID\"] = val\n",
    "    print(df.head())\n",
    "    df_list_all.append(df)\n",
    "    \n",
    "    \n",
    "    "
   ]
  },
  {
   "cell_type": "code",
   "execution_count": 34,
   "metadata": {},
   "outputs": [],
   "source": [
    "f = pd.concat(df_list_all)"
   ]
  },
  {
   "cell_type": "code",
   "execution_count": 35,
   "metadata": {},
   "outputs": [],
   "source": [
    "f.to_csv(\"/Users/shehjarsadhu/Desktop/all_usage_data.csv\")"
   ]
  },
  {
   "cell_type": "code",
   "execution_count": 36,
   "metadata": {},
   "outputs": [],
   "source": [
    "df_usage = pd.read_csv(\"/Users/shehjarsadhu/Desktop/all_usage_data.csv\")\n",
    "\n"
   ]
  },
  {
   "cell_type": "code",
   "execution_count": 37,
   "metadata": {},
   "outputs": [
    {
     "data": {
      "text/plain": [
       "array(['FT-01', 'FT-02', 'FT-04', 'FT-07', 'FT-11', 'FT-12', 'FT-14',\n",
       "       'FT-16', 'FT-20', 'FT-24', 'FT-25', 'FT-26', 'FT-28', 'FT-29',\n",
       "       'FT-40', 'FT-39', 'FT-30'], dtype=object)"
      ]
     },
     "execution_count": 37,
     "metadata": {},
     "output_type": "execute_result"
    }
   ],
   "source": [
    "df_usage[\"PID\"].unique()"
   ]
  },
  {
   "cell_type": "code",
   "execution_count": null,
   "metadata": {},
   "outputs": [],
   "source": []
  },
  {
   "cell_type": "code",
   "execution_count": 38,
   "metadata": {},
   "outputs": [],
   "source": [
    "start_date_ts = []\n",
    "for i in df_usage[\"start_date\"]:\n",
    "#     print(i)\n",
    "    dt = datetime.datetime.fromtimestamp(i / 1000.0, tz=datetime.timezone.utc)\n",
    "#     start_date_only.append(dt.split(\" \")[0])\n",
    "    start_date_ts.append(dt)"
   ]
  },
  {
   "cell_type": "code",
   "execution_count": 44,
   "metadata": {},
   "outputs": [],
   "source": [
    "end_date_ts = []\n",
    "for i in df_usage[\"end_date\"]:\n",
    "    dt = datetime.datetime.fromtimestamp(i / 1000.0, tz=datetime.timezone.utc)\n",
    "    #i.split(\" \")[0]\n",
    "    end_date_ts.append(dt)"
   ]
  },
  {
   "cell_type": "code",
   "execution_count": 45,
   "metadata": {},
   "outputs": [],
   "source": [
    "#start_date_ts,end_date_ts"
   ]
  },
  {
   "cell_type": "code",
   "execution_count": 46,
   "metadata": {},
   "outputs": [],
   "source": [
    "df_usage[\"ts_start_date\"] = start_date_ts\n",
    "df_usage[\"ts_end_date\"] = end_date_ts\n"
   ]
  },
  {
   "cell_type": "code",
   "execution_count": 47,
   "metadata": {},
   "outputs": [],
   "source": [
    "df_usage.to_csv(\"/Users/shehjarsadhu/Desktop/all_usage_data_ts.csv\")"
   ]
  },
  {
   "cell_type": "code",
   "execution_count": 48,
   "metadata": {},
   "outputs": [
    {
     "ename": "ValueError",
     "evalue": "No objects to concatenate",
     "output_type": "error",
     "traceback": [
      "\u001b[0;31m---------------------------------------------------------------------------\u001b[0m",
      "\u001b[0;31mValueError\u001b[0m                                Traceback (most recent call last)",
      "\u001b[0;32m<ipython-input-48-989cb5f949c4>\u001b[0m in \u001b[0;36m<module>\u001b[0;34m\u001b[0m\n\u001b[0;32m----> 1\u001b[0;31m \u001b[0mdf_all_totals\u001b[0m \u001b[0;34m=\u001b[0m \u001b[0mpd\u001b[0m\u001b[0;34m.\u001b[0m\u001b[0mconcat\u001b[0m\u001b[0;34m(\u001b[0m\u001b[0mdf_list_total\u001b[0m\u001b[0;34m)\u001b[0m\u001b[0;34m\u001b[0m\u001b[0;34m\u001b[0m\u001b[0m\n\u001b[0m",
      "\u001b[0;32m~/opt/anaconda3/envs/edear/lib/python3.7/site-packages/pandas/core/reshape/concat.py\u001b[0m in \u001b[0;36mconcat\u001b[0;34m(objs, axis, join, ignore_index, keys, levels, names, verify_integrity, sort, copy)\u001b[0m\n\u001b[1;32m    282\u001b[0m         \u001b[0mverify_integrity\u001b[0m\u001b[0;34m=\u001b[0m\u001b[0mverify_integrity\u001b[0m\u001b[0;34m,\u001b[0m\u001b[0;34m\u001b[0m\u001b[0;34m\u001b[0m\u001b[0m\n\u001b[1;32m    283\u001b[0m         \u001b[0mcopy\u001b[0m\u001b[0;34m=\u001b[0m\u001b[0mcopy\u001b[0m\u001b[0;34m,\u001b[0m\u001b[0;34m\u001b[0m\u001b[0;34m\u001b[0m\u001b[0m\n\u001b[0;32m--> 284\u001b[0;31m         \u001b[0msort\u001b[0m\u001b[0;34m=\u001b[0m\u001b[0msort\u001b[0m\u001b[0;34m,\u001b[0m\u001b[0;34m\u001b[0m\u001b[0;34m\u001b[0m\u001b[0m\n\u001b[0m\u001b[1;32m    285\u001b[0m     )\n\u001b[1;32m    286\u001b[0m \u001b[0;34m\u001b[0m\u001b[0m\n",
      "\u001b[0;32m~/opt/anaconda3/envs/edear/lib/python3.7/site-packages/pandas/core/reshape/concat.py\u001b[0m in \u001b[0;36m__init__\u001b[0;34m(self, objs, axis, join, keys, levels, names, ignore_index, verify_integrity, copy, sort)\u001b[0m\n\u001b[1;32m    329\u001b[0m \u001b[0;34m\u001b[0m\u001b[0m\n\u001b[1;32m    330\u001b[0m         \u001b[0;32mif\u001b[0m \u001b[0mlen\u001b[0m\u001b[0;34m(\u001b[0m\u001b[0mobjs\u001b[0m\u001b[0;34m)\u001b[0m \u001b[0;34m==\u001b[0m \u001b[0;36m0\u001b[0m\u001b[0;34m:\u001b[0m\u001b[0;34m\u001b[0m\u001b[0;34m\u001b[0m\u001b[0m\n\u001b[0;32m--> 331\u001b[0;31m             \u001b[0;32mraise\u001b[0m \u001b[0mValueError\u001b[0m\u001b[0;34m(\u001b[0m\u001b[0;34m\"No objects to concatenate\"\u001b[0m\u001b[0;34m)\u001b[0m\u001b[0;34m\u001b[0m\u001b[0;34m\u001b[0m\u001b[0m\n\u001b[0m\u001b[1;32m    332\u001b[0m \u001b[0;34m\u001b[0m\u001b[0m\n\u001b[1;32m    333\u001b[0m         \u001b[0;32mif\u001b[0m \u001b[0mkeys\u001b[0m \u001b[0;32mis\u001b[0m \u001b[0;32mNone\u001b[0m\u001b[0;34m:\u001b[0m\u001b[0;34m\u001b[0m\u001b[0;34m\u001b[0m\u001b[0m\n",
      "\u001b[0;31mValueError\u001b[0m: No objects to concatenate"
     ]
    }
   ],
   "source": [
    "df_all_totals = pd.concat(df_list_total)"
   ]
  },
  {
   "cell_type": "code",
   "execution_count": null,
   "metadata": {},
   "outputs": [],
   "source": [
    "\n",
    "df_all_totals.to_csv(\"/Users/shehjarsadhu/Desktop/UniversityOfRhodeIsland/Graduate/WBL/Project_Carewell/FTStudyData/CareWellAppGroup/APPGROUP/totals_category_reminders_fixed.csv\",index=0)\n",
    "\n"
   ]
  },
  {
   "cell_type": "code",
   "execution_count": null,
   "metadata": {},
   "outputs": [],
   "source": [
    "# df_t_all = pd.read_csv(\"/Users/shehjarsadhu/Desktop/UniversityOfRhodeIsland/Graduate/ResearchWBL/Project_Carewell/FTStudyData/CareWellAppGroup/APPGROUP/totals_category.csv\")\n",
    "df_t_all = pd.read_csv(\"/Users/shehjarsadhu/Desktop/all_usage_data_simplified.csv\")\n",
    "\n",
    "start_date_only = []\n",
    "end_date_onnly =[]\n",
    "for i in df_t_all[\"ts_start_date\"]:\n",
    "    start_date_only.append(i.split(\" \")[0])\n",
    "for j in df_t_all[\"ts_end_date\"]:\n",
    "    end_date_onnly.append(j.split(\" \")[0])\n",
    "    \n",
    "\n"
   ]
  },
  {
   "cell_type": "code",
   "execution_count": null,
   "metadata": {},
   "outputs": [],
   "source": [
    "# df_t_all[\"start_date_only\"] = start_date_only"
   ]
  },
  {
   "cell_type": "code",
   "execution_count": null,
   "metadata": {},
   "outputs": [],
   "source": [
    "# df_t_all[\"wend_date_only\"] = end_date_onnly"
   ]
  },
  {
   "cell_type": "code",
   "execution_count": null,
   "metadata": {},
   "outputs": [],
   "source": [
    "# df_t_all.to_csv(\"/Users/shehjarsadhu/Desktop/all_usage_data_simplified.csv\")"
   ]
  },
  {
   "cell_type": "code",
   "execution_count": null,
   "metadata": {},
   "outputs": [],
   "source": [
    "df_t_all"
   ]
  },
  {
   "cell_type": "code",
   "execution_count": null,
   "metadata": {
    "scrolled": true
   },
   "outputs": [],
   "source": [
    "df_t_all.columns"
   ]
  },
  {
   "cell_type": "code",
   "execution_count": null,
   "metadata": {},
   "outputs": [],
   "source": [
    "num_days = []\n",
    "for p in df_t_all[\"PID\"].unique():\n",
    "    print(\"For PID: \", p)\n",
    "    df_by_pid = df_t_all[df_t_all[\"PID\"] == p]\n",
    "    print(len(df_by_pid[\"start_date_only\"].unique()))\n",
    "    num_days.append(len(df_by_pid[\"start_date_only\"].unique()))"
   ]
  },
  {
   "cell_type": "code",
   "execution_count": null,
   "metadata": {},
   "outputs": [],
   "source": [
    "d = pd.DataFrame({\"num_days\":num_days,\"pid_list\": pid_list})"
   ]
  },
  {
   "cell_type": "code",
   "execution_count": null,
   "metadata": {},
   "outputs": [],
   "source": [
    "d.to_csv(\"/Users/shehjarsadhu/Desktop/num_days.csv\")"
   ]
  },
  {
   "cell_type": "code",
   "execution_count": null,
   "metadata": {},
   "outputs": [],
   "source": []
  },
  {
   "cell_type": "code",
   "execution_count": null,
   "metadata": {},
   "outputs": [],
   "source": []
  },
  {
   "cell_type": "code",
   "execution_count": null,
   "metadata": {},
   "outputs": [],
   "source": []
  },
  {
   "cell_type": "markdown",
   "metadata": {},
   "source": [
    "# Initial Assessment"
   ]
  },
  {
   "cell_type": "code",
   "execution_count": null,
   "metadata": {},
   "outputs": [],
   "source": [
    "df_init = pd.read_csv(\"/Users/shehjarsadhu/Desktop/UniversityOfRhodeIsland/Graduate/WBL/Project_Carewell/FTStudyData/CareWellAppGroup/APPGROUP/FT-16/initial_assessment.csv\",sep=\"#\")\n",
    "\n"
   ]
  },
  {
   "cell_type": "code",
   "execution_count": null,
   "metadata": {},
   "outputs": [],
   "source": [
    "df_init.head()"
   ]
  },
  {
   "cell_type": "code",
   "execution_count": null,
   "metadata": {},
   "outputs": [],
   "source": [
    "df_init[\"category\"].unique()"
   ]
  },
  {
   "cell_type": "code",
   "execution_count": null,
   "metadata": {},
   "outputs": [],
   "source": [
    "# CATEGORIES - ['Family Functioning', 'Social Support', 'Mood/Depression', 'Health', 'Care Recipient'],"
   ]
  },
  {
   "cell_type": "code",
   "execution_count": null,
   "metadata": {},
   "outputs": [],
   "source": [
    "df_init[df_init[\"category\"]=='Family Functioning']#.shape \n",
    "# yes ==>  no concern , no => Concern. "
   ]
  },
  {
   "cell_type": "code",
   "execution_count": null,
   "metadata": {},
   "outputs": [],
   "source": [
    "counter_yes = 0\n",
    "counter_no = 0\n",
    "for i in df_init[df_init[\"category\"]=='Family Functioning'][\"answer1\"]:\n",
    "    if i == \"yes\":\n",
    "        counter_yes +=1\n",
    "    elif i == \"no\":\n",
    "        counter_no +=1\n",
    "# print(counter_yes,counter_no)\n",
    "print(\"Total = \",df_init[df_init[\"category\"]=='Family Functioning'].shape[0])\n",
    "print(\"Concern = \", counter_no/df_init[df_init[\"category\"]=='Family Functioning'].shape[0] *100)\n",
    "print(\"No Concern =\",counter_yes/df_init[df_init[\"category\"]=='Family Functioning'].shape[0] *100)"
   ]
  },
  {
   "cell_type": "code",
   "execution_count": null,
   "metadata": {},
   "outputs": [],
   "source": [
    "df_init[df_init[\"category\"]=='Family Functioning'].shape[0] "
   ]
  },
  {
   "cell_type": "code",
   "execution_count": null,
   "metadata": {},
   "outputs": [],
   "source": [
    "df_init[df_init[\"category\"]=='Social Support']#.shape"
   ]
  },
  {
   "cell_type": "code",
   "execution_count": null,
   "metadata": {},
   "outputs": [],
   "source": [
    "df_init[df_init[\"category\"]=='Social Support'].shape"
   ]
  },
  {
   "cell_type": "code",
   "execution_count": null,
   "metadata": {},
   "outputs": [],
   "source": [
    "df_init[df_init[\"category\"]=='Mood/Depression']"
   ]
  },
  {
   "cell_type": "code",
   "execution_count": null,
   "metadata": {},
   "outputs": [],
   "source": [
    "df_init[df_init[\"category\"]=='Mood/Depression'].shape"
   ]
  },
  {
   "cell_type": "code",
   "execution_count": null,
   "metadata": {},
   "outputs": [],
   "source": [
    "df_init[df_init[\"category\"]=='Mood/Depression']"
   ]
  },
  {
   "cell_type": "code",
   "execution_count": null,
   "metadata": {},
   "outputs": [],
   "source": []
  },
  {
   "cell_type": "code",
   "execution_count": null,
   "metadata": {},
   "outputs": [],
   "source": []
  },
  {
   "cell_type": "code",
   "execution_count": null,
   "metadata": {},
   "outputs": [],
   "source": []
  },
  {
   "cell_type": "code",
   "execution_count": null,
   "metadata": {},
   "outputs": [],
   "source": []
  },
  {
   "cell_type": "code",
   "execution_count": null,
   "metadata": {},
   "outputs": [],
   "source": []
  },
  {
   "cell_type": "code",
   "execution_count": null,
   "metadata": {},
   "outputs": [],
   "source": []
  },
  {
   "cell_type": "markdown",
   "metadata": {},
   "source": [
    "# Weekly Assessments"
   ]
  },
  {
   "cell_type": "code",
   "execution_count": null,
   "metadata": {},
   "outputs": [],
   "source": []
  },
  {
   "cell_type": "markdown",
   "metadata": {},
   "source": [
    "### Weekly Assessment info file"
   ]
  },
  {
   "cell_type": "code",
   "execution_count": 45,
   "metadata": {},
   "outputs": [],
   "source": [
    "# Folder in which there is weekly assessment information.\n",
    "folder_participant = \"/Users/shehjarsadhu/Desktop/UniversityOfRhodeIsland/Graduate/WBL/Project_Carewell/FTStudyData/CareWellAppGroup/APPGROUP\"\n",
    "# Get initialassessment info for all the participants.\n",
    "def weekly_assessment_info_file(folder_participant):\n",
    "    weekly_ass_info_all = []\n",
    "    for participant_folder in os.listdir(folder_participant):\n",
    "        if participant_folder.startswith(\"FT\"):\n",
    "            print(\"participant_folder\",participant_folder)\n",
    "            for weekly_sssessment_file in os.listdir(folder_participant + \"/\" + participant_folder):\n",
    "                if weekly_sssessment_file.startswith(\"weekly_assessment\") and weekly_sssessment_file.endswith(\".csv\"):\n",
    "\n",
    "                    #  print(\"weekly_sssessment_file split:\",weekly_sssessment_file.split(\"assessment\",1)[1].split(\".\")[0])\n",
    "                    if weekly_sssessment_file.startswith(\"weekly_assessment_info\"):\n",
    "                        print(folder_participant + \"/\" + participant_folder + \"/\" + weekly_sssessment_file)\n",
    "                        df = pd.read_csv(folder_participant + \"/\" + participant_folder  + \"/\" + weekly_sssessment_file , sep=\"#\")\n",
    "                        df[\"pid\"] = participant_folder\n",
    "#                         df[\"timestamp\"] = \n",
    "#                         print(\"weekly_sssessment_file split\",weekly_sssessment_file.split(\"assessment\",1)[1].split(\".\")[0])\n",
    "                        weekly_ass_info_all.append(df)\n",
    "                        print(df)\n",
    "                        print(df.columns)\n",
    "                    else:\n",
    "                        pass\n",
    "    weekly_ass_info_all_df = pd.concat(weekly_ass_info_all)\n",
    "    return weekly_ass_info_all_df\n",
    "                    \n"
   ]
  },
  {
   "cell_type": "code",
   "execution_count": 46,
   "metadata": {},
   "outputs": [
    {
     "name": "stdout",
     "output_type": "stream",
     "text": [
      "participant_folder FT-04\n",
      "/Users/shehjarsadhu/Desktop/UniversityOfRhodeIsland/Graduate/WBL/Project_Carewell/FTStudyData/CareWellAppGroup/APPGROUP/FT-04/weekly_assessment_info.csv\n",
      "           date         time                                    id    pid\n",
      "0  Dec_10,_2020   1:24:37_PM  f429706a-7d25-11ea-9a5d-ebf5d49af078  FT-04\n",
      "1  Dec_19,_2020   1:28:51_PM  f429706a-7d25-11ea-9a5d-ebf5d49af078  FT-04\n",
      "2  Dec_29,_2020  12:17:10_PM  f429706a-7d25-11ea-9a5d-ebf5d49af078  FT-04\n",
      "3   Jan_7,_2021   3:21:09_PM  f429706a-7d25-11ea-9a5d-ebf5d49af078  FT-04\n",
      "Index(['date', 'time', 'id', 'pid'], dtype='object')\n",
      "participant_folder FT-02\n",
      "/Users/shehjarsadhu/Desktop/UniversityOfRhodeIsland/Graduate/WBL/Project_Carewell/FTStudyData/CareWellAppGroup/APPGROUP/FT-02/weekly_assessment_info.csv\n",
      "           date        time                                    id    pid\n",
      "0   Feb_9,_2021  8:11:27_PM  f429706a-7d25-11ea-9a5d-ebf5d49af078  FT-02\n",
      "1   Mar_8,_2021  3:15:03_PM  f429706a-7d25-11ea-9a5d-ebf5d49af078  FT-02\n",
      "2  Apr_27,_2021  8:28:21_PM  f429706a-7d25-11ea-9a5d-ebf5d49af078  FT-02\n",
      "Index(['date', 'time', 'id', 'pid'], dtype='object')\n",
      "participant_folder FT-20\n",
      "participant_folder FT-11\n",
      "participant_folder FT-16\n",
      "/Users/shehjarsadhu/Desktop/UniversityOfRhodeIsland/Graduate/WBL/Project_Carewell/FTStudyData/CareWellAppGroup/APPGROUP/FT-16/weekly_assessment_info.csv\n",
      "            date         time                                    id    pid\n",
      "0    Apr_1,_2021  12:47:44_PM  f429706a-7d25-11ea-9a5d-ebf5d49af078  FT-16\n",
      "1    Apr_9,_2021   9:24:28_AM  f429706a-7d25-11ea-9a5d-ebf5d49af078  FT-16\n",
      "2   Apr_20,_2021   8:32:39_AM  f429706a-7d25-11ea-9a5d-ebf5d49af078  FT-16\n",
      "3   Apr_20,_2021   8:33:51_AM  f429706a-7d25-11ea-9a5d-ebf5d49af078  FT-16\n",
      "4   Apr_28,_2021   7:33:14_AM  f429706a-7d25-11ea-9a5d-ebf5d49af078  FT-16\n",
      "5    May_5,_2021   9:56:00_AM  f429706a-7d25-11ea-9a5d-ebf5d49af078  FT-16\n",
      "6   May_13,_2021   9:40:45_AM  f429706a-7d25-11ea-9a5d-ebf5d49af078  FT-16\n",
      "7   May_20,_2021   3:23:14_PM  f429706a-7d25-11ea-9a5d-ebf5d49af078  FT-16\n",
      "8   May_27,_2021   6:24:46_PM  f429706a-7d25-11ea-9a5d-ebf5d49af078  FT-16\n",
      "9    Jun_6,_2021   2:12:24_PM  f429706a-7d25-11ea-9a5d-ebf5d49af078  FT-16\n",
      "10  Jun_15,_2021   7:46:32_PM  f429706a-7d25-11ea-9a5d-ebf5d49af078  FT-16\n",
      "Index(['date', 'time', 'id', 'pid'], dtype='object')\n",
      "participant_folder FT-29\n",
      "participant_folder FT-28\n",
      "/Users/shehjarsadhu/Desktop/UniversityOfRhodeIsland/Graduate/WBL/Project_Carewell/FTStudyData/CareWellAppGroup/APPGROUP/FT-28/weekly_assessment_info.csv\n",
      "           date        time                                    id    pid\n",
      "0  Jul_13,_2021  9:17:58_AM  f429706a-7d25-11ea-9a5d-ebf5d49af078  FT-28\n",
      "1   Oct_3,_2021  8:28:35_AM  f429706a-7d25-11ea-9a5d-ebf5d49af078  FT-28\n",
      "Index(['date', 'time', 'id', 'pid'], dtype='object')\n",
      "participant_folder FT-26\n",
      "/Users/shehjarsadhu/Desktop/UniversityOfRhodeIsland/Graduate/WBL/Project_Carewell/FTStudyData/CareWellAppGroup/APPGROUP/FT-26/weekly_assessment_info.csv\n",
      "           date         time                                    id    pid\n",
      "0  Jun_16,_2021   7:32:09_PM  f429706a-7d25-11ea-9a5d-ebf5d49af078  FT-26\n",
      "1  Jun_28,_2021  11:50:20_PM  f429706a-7d25-11ea-9a5d-ebf5d49af078  FT-26\n",
      "2   Jul_7,_2021   6:49:02_PM  f429706a-7d25-11ea-9a5d-ebf5d49af078  FT-26\n",
      "3  Jul_14,_2021  11:27:27_PM  f429706a-7d25-11ea-9a5d-ebf5d49af078  FT-26\n",
      "4   Aug_1,_2021  11:17:11_AM  f429706a-7d25-11ea-9a5d-ebf5d49af078  FT-26\n",
      "5  Aug_10,_2021   8:56:27_PM  f429706a-7d25-11ea-9a5d-ebf5d49af078  FT-26\n",
      "6   Sep_2,_2021  11:30:33_AM  f429706a-7d25-11ea-9a5d-ebf5d49af078  FT-26\n",
      "7  Sep_10,_2021   5:08:42_PM  f429706a-7d25-11ea-9a5d-ebf5d49af078  FT-26\n",
      "Index(['date', 'time', 'id', 'pid'], dtype='object')\n",
      "participant_folder FT-07\n",
      "/Users/shehjarsadhu/Desktop/UniversityOfRhodeIsland/Graduate/WBL/Project_Carewell/FTStudyData/CareWellAppGroup/APPGROUP/FT-07/weekly_assessment_info.csv\n",
      "           date        time                                    id    pid\n",
      "0  Feb_23,_2021  8:52:41_PM  f429706a-7d25-11ea-9a5d-ebf5d49af078  FT-07\n",
      "1   Mar_5,_2021  9:36:34_PM  f429706a-7d25-11ea-9a5d-ebf5d49af078  FT-07\n",
      "2  Mar_15,_2021  3:44:24_PM  f429706a-7d25-11ea-9a5d-ebf5d49af078  FT-07\n",
      "3  Mar_25,_2021  4:14:33_PM  f429706a-7d25-11ea-9a5d-ebf5d49af078  FT-07\n",
      "4   Apr_2,_2021  6:04:43_PM  f429706a-7d25-11ea-9a5d-ebf5d49af078  FT-07\n",
      "5  Apr_13,_2021  6:45:16_PM  f429706a-7d25-11ea-9a5d-ebf5d49af078  FT-07\n",
      "6  Apr_21,_2021  4:03:45_PM  f429706a-7d25-11ea-9a5d-ebf5d49af078  FT-07\n",
      "7   May_1,_2021  8:14:58_PM  f429706a-7d25-11ea-9a5d-ebf5d49af078  FT-07\n",
      "8  May_10,_2021  2:25:32_PM  f429706a-7d25-11ea-9a5d-ebf5d49af078  FT-07\n",
      "9  May_17,_2021  4:16:46_PM  f429706a-7d25-11ea-9a5d-ebf5d49af078  FT-07\n",
      "Index(['date', 'time', 'id', 'pid'], dtype='object')\n",
      "participant_folder FT-30\n",
      "/Users/shehjarsadhu/Desktop/UniversityOfRhodeIsland/Graduate/WBL/Project_Carewell/FTStudyData/CareWellAppGroup/APPGROUP/FT-30/weekly_assessment_info.csv\n",
      "           date         time                                    id    pid\n",
      "0   Aug_6,_2021   9:25:54_AM  f429706a-7d25-11ea-9a5d-ebf5d49af078  FT-30\n",
      "1  Aug_19,_2021   8:31:17_AM  f429706a-7d25-11ea-9a5d-ebf5d49af078  FT-30\n",
      "2  Aug_27,_2021   9:04:32_AM  f429706a-7d25-11ea-9a5d-ebf5d49af078  FT-30\n",
      "3  Sep_11,_2021  11:36:38_AM  f429706a-7d25-11ea-9a5d-ebf5d49af078  FT-30\n",
      "4  Sep_20,_2021   9:28:34_AM  f429706a-7d25-11ea-9a5d-ebf5d49af078  FT-30\n",
      "5  Sep_24,_2021   7:42:55_PM  f429706a-7d25-11ea-9a5d-ebf5d49af078  FT-30\n",
      "6  Oct_12,_2021   6:47:42_PM  f429706a-7d25-11ea-9a5d-ebf5d49af078  FT-30\n",
      "7   Nov_9,_2021  10:26:34_AM  f429706a-7d25-11ea-9a5d-ebf5d49af078  FT-30\n",
      "Index(['date', 'time', 'id', 'pid'], dtype='object')\n",
      "participant_folder FT-37\n",
      "/Users/shehjarsadhu/Desktop/UniversityOfRhodeIsland/Graduate/WBL/Project_Carewell/FTStudyData/CareWellAppGroup/APPGROUP/FT-37/weekly_assessment_info.csv\n",
      "           date         time                                    id    pid\n",
      "0  Dec_21,_2021   3:29:33_PM  f429706a-7d25-11ea-9a5d-ebf5d49af078  FT-37\n",
      "1  Dec_29,_2021   8:57:51_PM  f429706a-7d25-11ea-9a5d-ebf5d49af078  FT-37\n",
      "2  Jan_11,_2022   7:49:30_PM  f429706a-7d25-11ea-9a5d-ebf5d49af078  FT-37\n",
      "3  Jan_22,_2022  10:14:24_AM  f429706a-7d25-11ea-9a5d-ebf5d49af078  FT-37\n",
      "4   Feb_1,_2022   9:18:12_AM  f429706a-7d25-11ea-9a5d-ebf5d49af078  FT-37\n",
      "5  Feb_13,_2022   9:13:15_AM  f429706a-7d25-11ea-9a5d-ebf5d49af078  FT-37\n",
      "6  Feb_21,_2022   7:38:45_PM  f429706a-7d25-11ea-9a5d-ebf5d49af078  FT-37\n",
      "7  Mar_16,_2022  10:45:16_AM  f429706a-7d25-11ea-9a5d-ebf5d49af078  FT-37\n",
      "Index(['date', 'time', 'id', 'pid'], dtype='object')\n",
      "participant_folder FT-01\n",
      "/Users/shehjarsadhu/Desktop/UniversityOfRhodeIsland/Graduate/WBL/Project_Carewell/FTStudyData/CareWellAppGroup/APPGROUP/FT-01/weekly_assessment_info.csv\n",
      "           date         time                                    id    pid\n",
      "0   Mar_9,_2021  10:23:03_PM  f429706a-7d25-11ea-9a5d-ebf5d49af078  FT-01\n",
      "1  Mar_17,_2021  11:39:36_PM  f429706a-7d25-11ea-9a5d-ebf5d49af078  FT-01\n",
      "2   Apr_1,_2021  10:30:42_PM  f429706a-7d25-11ea-9a5d-ebf5d49af078  FT-01\n",
      "3  Apr_18,_2021   8:34:56_AM  f429706a-7d25-11ea-9a5d-ebf5d49af078  FT-01\n",
      "4  May_25,_2021   8:02:03_PM  f429706a-7d25-11ea-9a5d-ebf5d49af078  FT-01\n",
      "Index(['date', 'time', 'id', 'pid'], dtype='object')\n",
      "participant_folder FT-39\n",
      "/Users/shehjarsadhu/Desktop/UniversityOfRhodeIsland/Graduate/WBL/Project_Carewell/FTStudyData/CareWellAppGroup/APPGROUP/FT-39/weekly_assessment_info.csv\n",
      "           date         time                                    id    pid\n",
      "0  Feb_19,_2022   8:06:58_PM  f429706a-7d25-11ea-9a5d-ebf5d49af078  FT-39\n",
      "1  Feb_27,_2022   7:53:40_PM  f429706a-7d25-11ea-9a5d-ebf5d49af078  FT-39\n",
      "2   Mar_9,_2022   8:30:14_PM  f429706a-7d25-11ea-9a5d-ebf5d49af078  FT-39\n",
      "3  Mar_17,_2022   7:05:47_PM  f429706a-7d25-11ea-9a5d-ebf5d49af078  FT-39\n",
      "4  Mar_28,_2022  10:31:24_AM  f429706a-7d25-11ea-9a5d-ebf5d49af078  FT-39\n",
      "5   Apr_6,_2022   7:23:58_PM  f429706a-7d25-11ea-9a5d-ebf5d49af078  FT-39\n",
      "6  Apr_15,_2022   7:29:41_PM  f429706a-7d25-11ea-9a5d-ebf5d49af078  FT-39\n",
      "7  Apr_24,_2022   7:17:16_PM  f429706a-7d25-11ea-9a5d-ebf5d49af078  FT-39\n",
      "8   May_7,_2022   8:03:39_PM  f429706a-7d25-11ea-9a5d-ebf5d49af078  FT-39\n",
      "9  May_17,_2022   8:39:41_PM  f429706a-7d25-11ea-9a5d-ebf5d49af078  FT-39\n",
      "Index(['date', 'time', 'id', 'pid'], dtype='object')\n",
      "participant_folder FT-24\n",
      "/Users/shehjarsadhu/Desktop/UniversityOfRhodeIsland/Graduate/WBL/Project_Carewell/FTStudyData/CareWellAppGroup/APPGROUP/FT-24/weekly_assessment_info.csv\n",
      "           date         time                                    id    pid\n",
      "0  May_24,_2021   8:15:42_PM  f429706a-7d25-11ea-9a5d-ebf5d49af078  FT-24\n",
      "1   Jun_2,_2021   9:10:53_PM  f429706a-7d25-11ea-9a5d-ebf5d49af078  FT-24\n",
      "2  Jun_11,_2021   8:23:54_PM  f429706a-7d25-11ea-9a5d-ebf5d49af078  FT-24\n",
      "3  Jun_25,_2021  10:36:54_PM  f429706a-7d25-11ea-9a5d-ebf5d49af078  FT-24\n",
      "4   Jul_7,_2021   7:15:12_AM  f429706a-7d25-11ea-9a5d-ebf5d49af078  FT-24\n",
      "5  Jul_14,_2021   9:07:13_PM  f429706a-7d25-11ea-9a5d-ebf5d49af078  FT-24\n",
      "6  Jul_24,_2021   8:59:15_PM  f429706a-7d25-11ea-9a5d-ebf5d49af078  FT-24\n",
      "7   Aug_4,_2021   8:22:00_AM  f429706a-7d25-11ea-9a5d-ebf5d49af078  FT-24\n",
      "8  Aug_12,_2021   5:51:55_PM  f429706a-7d25-11ea-9a5d-ebf5d49af078  FT-24\n",
      "Index(['date', 'time', 'id', 'pid'], dtype='object')\n",
      "participant_folder FT-12\n",
      "/Users/shehjarsadhu/Desktop/UniversityOfRhodeIsland/Graduate/WBL/Project_Carewell/FTStudyData/CareWellAppGroup/APPGROUP/FT-12/weekly_assessment_info.csv\n",
      "           date         time                                    id    pid\n",
      "0   May_7,_2021   8:16:34_AM  f429706a-7d25-11ea-9a5d-ebf5d49af078  FT-12\n",
      "1  May_14,_2021   9:51:33_AM  f429706a-7d25-11ea-9a5d-ebf5d49af078  FT-12\n",
      "2  May_22,_2021  12:36:48_AM  f429706a-7d25-11ea-9a5d-ebf5d49af078  FT-12\n",
      "Index(['date', 'time', 'id', 'pid'], dtype='object')\n",
      "participant_folder FT-40\n",
      "/Users/shehjarsadhu/Desktop/UniversityOfRhodeIsland/Graduate/WBL/Project_Carewell/FTStudyData/CareWellAppGroup/APPGROUP/FT-40/weekly_assessment_info.csv\n",
      "           date         time                                    id    pid\n",
      "0  Mar_10,_2022   5:05:20_PM  f429706a-7d25-11ea-9a5d-ebf5d49af078  FT-40\n",
      "1  Mar_20,_2022   8:00:05_AM  f429706a-7d25-11ea-9a5d-ebf5d49af078  FT-40\n",
      "2  Mar_27,_2022   8:16:27_AM  f429706a-7d25-11ea-9a5d-ebf5d49af078  FT-40\n",
      "3   Apr_3,_2022  11:51:33_AM  f429706a-7d25-11ea-9a5d-ebf5d49af078  FT-40\n",
      "4  Apr_12,_2022   4:49:09_AM  f429706a-7d25-11ea-9a5d-ebf5d49af078  FT-40\n",
      "5  Apr_22,_2022   7:48:44_AM  f429706a-7d25-11ea-9a5d-ebf5d49af078  FT-40\n",
      "6  Apr_30,_2022   4:45:02_PM  f429706a-7d25-11ea-9a5d-ebf5d49af078  FT-40\n",
      "7   May_9,_2022   8:59:06_AM  f429706a-7d25-11ea-9a5d-ebf5d49af078  FT-40\n",
      "8  May_18,_2022   7:31:40_AM  f429706a-7d25-11ea-9a5d-ebf5d49af078  FT-40\n",
      "Index(['date', 'time', 'id', 'pid'], dtype='object')\n",
      "participant_folder FT-14\n",
      "/Users/shehjarsadhu/Desktop/UniversityOfRhodeIsland/Graduate/WBL/Project_Carewell/FTStudyData/CareWellAppGroup/APPGROUP/FT-14/weekly_assessment_info.csv\n",
      "           date        time                                    id    pid\n",
      "0  Dec_18,_2020  7:24:48_AM  f429706a-7d25-11ea-9a5d-ebf5d49af078  FT-14\n",
      "1  Feb_16,_2021  8:04:30_AM  f429706a-7d25-11ea-9a5d-ebf5d49af078  FT-14\n",
      "2   Mar_9,_2021  4:09:04_PM  f429706a-7d25-11ea-9a5d-ebf5d49af078  FT-14\n",
      "Index(['date', 'time', 'id', 'pid'], dtype='object')\n",
      "participant_folder FT-25\n",
      "/Users/shehjarsadhu/Desktop/UniversityOfRhodeIsland/Graduate/WBL/Project_Carewell/FTStudyData/CareWellAppGroup/APPGROUP/FT-25/weekly_assessment_info.csv\n",
      "           date         time                                    id    pid\n",
      "0   Jun_9,_2021   1:46:00_PM  f429706a-7d25-11ea-9a5d-ebf5d49af078  FT-25\n",
      "1  Jun_20,_2021   1:31:40_AM  f429706a-7d25-11ea-9a5d-ebf5d49af078  FT-25\n",
      "2  Jun_28,_2021   1:12:26_PM  f429706a-7d25-11ea-9a5d-ebf5d49af078  FT-25\n",
      "3  Jul_11,_2021   4:41:19_AM  f429706a-7d25-11ea-9a5d-ebf5d49af078  FT-25\n",
      "4  Jul_19,_2021  10:56:55_AM  f429706a-7d25-11ea-9a5d-ebf5d49af078  FT-25\n",
      "5  Jul_29,_2021   4:11:45_PM  f429706a-7d25-11ea-9a5d-ebf5d49af078  FT-25\n",
      "6   Aug_9,_2021   2:59:10_AM  f429706a-7d25-11ea-9a5d-ebf5d49af078  FT-25\n",
      "Index(['date', 'time', 'id', 'pid'], dtype='object')\n"
     ]
    }
   ],
   "source": [
    "\n",
    "weekly_ass_info_all_df = weekly_assessment_info_file(folder_participant)"
   ]
  },
  {
   "cell_type": "code",
   "execution_count": null,
   "metadata": {},
   "outputs": [],
   "source": []
  },
  {
   "cell_type": "code",
   "execution_count": 57,
   "metadata": {},
   "outputs": [
    {
     "data": {
      "text/plain": [
       "15"
      ]
     },
     "execution_count": 57,
     "metadata": {},
     "output_type": "execute_result"
    }
   ],
   "source": [
    "len(weekly_ass_info_all_df[\"pid\"].unique())"
   ]
  },
  {
   "cell_type": "code",
   "execution_count": 58,
   "metadata": {},
   "outputs": [],
   "source": [
    "weekly_ass_info_all_df.to_csv(\"/Users/shehjarsadhu/Desktop/UniversityOfRhodeIsland/Graduate/WBL/Project_Carewell/FTStudyData/CareWellAppGroup/APPGROUP/weekly_assessment_info_all.csv\")\n",
    "\n"
   ]
  },
  {
   "cell_type": "code",
   "execution_count": null,
   "metadata": {},
   "outputs": [],
   "source": [
    "df_test = pd.read_csv(\"/Users/shehjarsadhu/Desktop/UniversityOfRhodeIsland/Graduate/WBL/Project_Carewell/FTStudyData/CareWellAppGroup/APPGROUP/FT-01/weekly_assessmentApr_1_202110_30_42_PM.csv\")\n",
    "\n"
   ]
  },
  {
   "cell_type": "code",
   "execution_count": null,
   "metadata": {},
   "outputs": [],
   "source": [
    "df_test"
   ]
  },
  {
   "cell_type": "code",
   "execution_count": 60,
   "metadata": {},
   "outputs": [],
   "source": [
    "# Get initial assessment for all patients./\n",
    "# Retuns a df consisting of all the participants initial assessment in one datafram. \n",
    "def initial_assessment_particiapnts(folder_participant):\n",
    "    df_all_list =[]\n",
    "    for participant_folder in os.listdir(folder_participant):\n",
    "        if participant_folder.startswith(\"FT\"):\n",
    "            print(\"participant_folder\",participant_folder)\n",
    "            for weekly_sssessment_file in os.listdir(folder_participant + \"/\" + participant_folder):\n",
    "                if weekly_sssessment_file.startswith(\"init\") and weekly_sssessment_file.endswith(\".csv\"):\n",
    "                    print(\"init\",weekly_sssessment_file)\n",
    "                    print(folder_participant + \"/\" + participant_folder + weekly_sssessment_file)\n",
    "                    df = pd.read_csv(folder_participant + \"/\" + participant_folder +  \"/\" + weekly_sssessment_file , sep=\"#\")\n",
    "                    df[\"patient_id\"] = participant_folder\n",
    "                    #print(df.head())\n",
    "                    df_all_list.append(df)\n",
    "    df_all_ = pd.concat(df_all_list)\n",
    "    return df_all_\n"
   ]
  },
  {
   "cell_type": "code",
   "execution_count": 65,
   "metadata": {},
   "outputs": [
    {
     "name": "stdout",
     "output_type": "stream",
     "text": [
      "participant_folder FT-04\n",
      "init initial_assessment.csv\n",
      "/Users/shehjarsadhu/Desktop/UniversityOfRhodeIsland/Graduate/WBL/Project_Carewell/FTStudyData/CareWellAppGroup/APPGROUP/FT-04initial_assessment.csv\n",
      "participant_folder FT-02\n",
      "init initial_assessment.csv\n",
      "/Users/shehjarsadhu/Desktop/UniversityOfRhodeIsland/Graduate/WBL/Project_Carewell/FTStudyData/CareWellAppGroup/APPGROUP/FT-02initial_assessment.csv\n",
      "participant_folder FT-20\n",
      "init initial_assessment.csv\n",
      "/Users/shehjarsadhu/Desktop/UniversityOfRhodeIsland/Graduate/WBL/Project_Carewell/FTStudyData/CareWellAppGroup/APPGROUP/FT-20initial_assessment.csv\n",
      "participant_folder FT-11\n",
      "init initial_assessment.csv\n",
      "/Users/shehjarsadhu/Desktop/UniversityOfRhodeIsland/Graduate/WBL/Project_Carewell/FTStudyData/CareWellAppGroup/APPGROUP/FT-11initial_assessment.csv\n",
      "participant_folder FT-16\n",
      "init initial_assessment.csv\n",
      "/Users/shehjarsadhu/Desktop/UniversityOfRhodeIsland/Graduate/WBL/Project_Carewell/FTStudyData/CareWellAppGroup/APPGROUP/FT-16initial_assessment.csv\n",
      "participant_folder FT-29\n",
      "init initial_assessment.csv\n",
      "/Users/shehjarsadhu/Desktop/UniversityOfRhodeIsland/Graduate/WBL/Project_Carewell/FTStudyData/CareWellAppGroup/APPGROUP/FT-29initial_assessment.csv\n",
      "participant_folder FT-28\n",
      "init initial_assessment.csv\n",
      "/Users/shehjarsadhu/Desktop/UniversityOfRhodeIsland/Graduate/WBL/Project_Carewell/FTStudyData/CareWellAppGroup/APPGROUP/FT-28initial_assessment.csv\n",
      "participant_folder FT-26\n",
      "init initial_assessment.csv\n",
      "/Users/shehjarsadhu/Desktop/UniversityOfRhodeIsland/Graduate/WBL/Project_Carewell/FTStudyData/CareWellAppGroup/APPGROUP/FT-26initial_assessment.csv\n",
      "participant_folder FT-07\n",
      "init initial_assessment.csv\n",
      "/Users/shehjarsadhu/Desktop/UniversityOfRhodeIsland/Graduate/WBL/Project_Carewell/FTStudyData/CareWellAppGroup/APPGROUP/FT-07initial_assessment.csv\n",
      "participant_folder FT-30\n",
      "init initial_assessment.csv\n",
      "/Users/shehjarsadhu/Desktop/UniversityOfRhodeIsland/Graduate/WBL/Project_Carewell/FTStudyData/CareWellAppGroup/APPGROUP/FT-30initial_assessment.csv\n",
      "participant_folder FT-37\n",
      "init initial_assessment.csv\n",
      "/Users/shehjarsadhu/Desktop/UniversityOfRhodeIsland/Graduate/WBL/Project_Carewell/FTStudyData/CareWellAppGroup/APPGROUP/FT-37initial_assessment.csv\n",
      "participant_folder FT-01\n",
      "init initial_assessment.csv\n",
      "/Users/shehjarsadhu/Desktop/UniversityOfRhodeIsland/Graduate/WBL/Project_Carewell/FTStudyData/CareWellAppGroup/APPGROUP/FT-01initial_assessment.csv\n",
      "participant_folder FT-39\n",
      "init initial_assessment.csv\n",
      "/Users/shehjarsadhu/Desktop/UniversityOfRhodeIsland/Graduate/WBL/Project_Carewell/FTStudyData/CareWellAppGroup/APPGROUP/FT-39initial_assessment.csv\n",
      "participant_folder FT-24\n",
      "init initial_assessment.csv\n",
      "/Users/shehjarsadhu/Desktop/UniversityOfRhodeIsland/Graduate/WBL/Project_Carewell/FTStudyData/CareWellAppGroup/APPGROUP/FT-24initial_assessment.csv\n",
      "participant_folder FT-12\n",
      "init initial_assessment.csv\n",
      "/Users/shehjarsadhu/Desktop/UniversityOfRhodeIsland/Graduate/WBL/Project_Carewell/FTStudyData/CareWellAppGroup/APPGROUP/FT-12initial_assessment.csv\n",
      "participant_folder FT-40\n",
      "init initial_assessment.csv\n",
      "/Users/shehjarsadhu/Desktop/UniversityOfRhodeIsland/Graduate/WBL/Project_Carewell/FTStudyData/CareWellAppGroup/APPGROUP/FT-40initial_assessment.csv\n",
      "participant_folder FT-14\n",
      "init initial_assessment.csv\n",
      "/Users/shehjarsadhu/Desktop/UniversityOfRhodeIsland/Graduate/WBL/Project_Carewell/FTStudyData/CareWellAppGroup/APPGROUP/FT-14initial_assessment.csv\n",
      "participant_folder FT-25\n",
      "init initial_assessment.csv\n",
      "/Users/shehjarsadhu/Desktop/UniversityOfRhodeIsland/Graduate/WBL/Project_Carewell/FTStudyData/CareWellAppGroup/APPGROUP/FT-25initial_assessment.csv\n"
     ]
    }
   ],
   "source": [
    "df_all_initial_ass = initial_assessment_particiapnts(folder_participant)"
   ]
  },
  {
   "cell_type": "code",
   "execution_count": 66,
   "metadata": {},
   "outputs": [
    {
     "data": {
      "text/plain": [
       "array(['FT-04', 'FT-02', 'FT-20', 'FT-11', 'FT-16', 'FT-29', 'FT-28',\n",
       "       'FT-26', 'FT-07', 'FT-30', 'FT-37', 'FT-01', 'FT-39', 'FT-24',\n",
       "       'FT-12', 'FT-40', 'FT-14', 'FT-25'], dtype=object)"
      ]
     },
     "execution_count": 66,
     "metadata": {},
     "output_type": "execute_result"
    }
   ],
   "source": [
    "df_all_initial_ass[\"patient_id\"].unique()"
   ]
  },
  {
   "cell_type": "code",
   "execution_count": 67,
   "metadata": {},
   "outputs": [],
   "source": [
    "# df_all_initial_ass.to_csv(\"/Users/shehjarsadhu/Desktop/UniversityOfRhodeIsland/Graduate/WBL/Project_Carewell/FTStudyData/CareWellAppGroup/APPGROUP/initial_assessment_all.csv\")\n"
   ]
  },
  {
   "cell_type": "code",
   "execution_count": null,
   "metadata": {},
   "outputs": [],
   "source": []
  },
  {
   "cell_type": "code",
   "execution_count": null,
   "metadata": {},
   "outputs": [],
   "source": [
    "\n",
    "dfw = pd.read_csv(\"/Users/shehjarsadhu/Desktop/UniversityOfRhodeIsland/Graduate/WBL/Project_Carewell/FTStudyData/CareWellAppGroup/APPGROUP/FT-01/weekly_assessmentApr_1_202110_30_42_PM.csv\",sep=\"#\")\n"
   ]
  },
  {
   "cell_type": "code",
   "execution_count": null,
   "metadata": {},
   "outputs": [],
   "source": []
  },
  {
   "cell_type": "code",
   "execution_count": null,
   "metadata": {},
   "outputs": [],
   "source": []
  },
  {
   "cell_type": "code",
   "execution_count": null,
   "metadata": {},
   "outputs": [],
   "source": []
  },
  {
   "cell_type": "code",
   "execution_count": null,
   "metadata": {},
   "outputs": [],
   "source": []
  },
  {
   "cell_type": "code",
   "execution_count": 75,
   "metadata": {},
   "outputs": [],
   "source": [
    "def get_all_weekly_assessments(participant_folder):\n",
    "    # Get initial assessment for all patients.\n",
    "    df_all_list = []\n",
    "    for participant_folder in os.listdir(folder_participant):\n",
    "        if participant_folder.startswith(\"FT\"):\n",
    "            print(\"participant_folder\",participant_folder)\n",
    "            for weekly_sssessment_file in os.listdir(folder_participant + \"/\" + participant_folder):\n",
    "                if weekly_sssessment_file.startswith(\"weekly_assessment\") and weekly_sssessment_file.endswith(\".csv\"):\n",
    "                    if weekly_sssessment_file.startswith(\"weekly_assessment_info\"):\n",
    "                        pass\n",
    "                    else:\n",
    "                        print(\"weekly_sssessment_file: \",weekly_sssessment_file)\n",
    "                        #print(\"Weekly Asssessment\",weekly_sssessment_file)\n",
    "                        #print(folder_participant + \"/\" + participant_folder + weekly_sssessment_file)\n",
    "                        df = pd.read_csv(folder_participant + \"/\" + participant_folder +  \"/\" + weekly_sssessment_file , sep=\"#\")\n",
    "                        df[\"patient_id\"] = participant_folder\n",
    "                        #print(df.head())\n",
    "                        df_all_list.append(df)\n",
    "    df_weekly_assessment = pd.concat(df_all_list)\n",
    "    return df_weekly_assessment\n",
    "\n"
   ]
  },
  {
   "cell_type": "code",
   "execution_count": 76,
   "metadata": {},
   "outputs": [
    {
     "name": "stdout",
     "output_type": "stream",
     "text": [
      "participant_folder FT-04\n",
      "weekly_sssessment_file:  weekly_assessmentDec_10_20201_24_37_PM.csv\n",
      "weekly_sssessment_file:  weekly_assessmentDec_19_20201_28_51_PM.csv\n",
      "weekly_sssessment_file:  weekly_assessmentDec_29_202012_17_10_PM.csv\n",
      "weekly_sssessment_file:  weekly_assessmentJan_7_20213_21_09_PM.csv\n",
      "participant_folder FT-02\n",
      "weekly_sssessment_file:  weekly_assessmentFeb_9_20218_11_27_PM.csv\n",
      "weekly_sssessment_file:  weekly_assessmentApr_27_20218_28_21_PM.csv\n",
      "weekly_sssessment_file:  weekly_assessmentMar_8_20213_15_03_PM.csv\n",
      "participant_folder FT-20\n",
      "participant_folder FT-11\n",
      "participant_folder FT-16\n",
      "weekly_sssessment_file:  weekly_assessmentMay_27_20216_24_46_PM.csv\n",
      "weekly_sssessment_file:  weekly_assessmentApr_20_20218_32_39_AM.csv\n",
      "weekly_sssessment_file:  weekly_assessmentMay_13_20219_40_45_AM(1).csv\n",
      "weekly_sssessment_file:  weekly_assessmentApr_28_20217_33_14_AM.csv\n",
      "weekly_sssessment_file:  weekly_assessmentApr_1_202112_47_44_PM(1).csv\n",
      "weekly_sssessment_file:  weekly_assessmentJun_15_20217_46_32_PM(1).csv\n",
      "weekly_sssessment_file:  weekly_assessmentApr_1_202112_47_44_PM.csv\n",
      "weekly_sssessment_file:  weekly_assessmentJun_6_20212_12_24_PM(1).csv\n",
      "weekly_sssessment_file:  weekly_assessmentMay_27_20216_24_46_PM(1).csv\n",
      "weekly_sssessment_file:  weekly_assessmentMay_5_20219_56_00_AM(1).csv\n",
      "weekly_sssessment_file:  weekly_assessmentMay_13_20219_40_45_AM.csv\n",
      "weekly_sssessment_file:  weekly_assessment.csv\n",
      "weekly_sssessment_file:  weekly_assessmentJun_6_20212_12_24_PM.csv\n",
      "weekly_sssessment_file:  weekly_assessmentApr_9_20219_24_28_AM.csv\n",
      "weekly_sssessment_file:  weekly_assessmentApr_28_20217_33_14_AM(1).csv\n",
      "weekly_sssessment_file:  weekly_assessmentApr_20_20218_33_51_AM.csv\n",
      "weekly_sssessment_file:  weekly_assessmentApr_9_20219_24_28_AM(1).csv\n",
      "weekly_sssessment_file:  weekly_assessmentMay_5_20219_56_00_AM.csv\n",
      "weekly_sssessment_file:  weekly_assessmentJun_15_20217_46_32_PM.csv\n",
      "weekly_sssessment_file:  weekly_assessmentMay_20_20213_23_14_PM.csv\n",
      "weekly_sssessment_file:  weekly_assessmentApr_20_20218_32_39_AM(1).csv\n",
      "weekly_sssessment_file:  weekly_assessmentApr_20_20218_33_51_AM(1).csv\n",
      "weekly_sssessment_file:  weekly_assessmentMay_20_20213_23_14_PM(1).csv\n",
      "participant_folder FT-29\n",
      "participant_folder FT-28\n",
      "weekly_sssessment_file:  weekly_assessmentOct_3_20218_28_35_AM.csv\n",
      "weekly_sssessment_file:  weekly_assessmentJul_13_20219_17_58_AM.csv\n",
      "participant_folder FT-26\n",
      "weekly_sssessment_file:  weekly_assessmentAug_1_202111_17_11_AM.csv\n",
      "weekly_sssessment_file:  weekly_assessmentJun_28_202111_50_20_PM.csv\n",
      "weekly_sssessment_file:  weekly_assessmentJul_14_202111_27_27_PM.csv\n",
      "weekly_sssessment_file:  weekly_assessmentSep_10_20215_08_42_PM.csv\n",
      "weekly_sssessment_file:  weekly_assessmentJun_16_20217_32_09_PM.csv\n",
      "weekly_sssessment_file:  weekly_assessmentJul_7_20216_49_02_PM.csv\n",
      "weekly_sssessment_file:  weekly_assessmentSep_2_202111_30_33_AM.csv\n",
      "weekly_sssessment_file:  weekly_assessmentAug_10_20218_56_27_PM.csv\n",
      "participant_folder FT-07\n",
      "weekly_sssessment_file:  weekly_assessmentMar_25_20214_14_33_PM.csv\n",
      "weekly_sssessment_file:  weekly_assessmentMay_1_20218_14_58_PM.csv\n",
      "weekly_sssessment_file:  weekly_assessmentApr_21_20214_03_45_PM.csv\n",
      "weekly_sssessment_file:  weekly_assessmentMar_5_20219_36_34_PM.csv\n",
      "weekly_sssessment_file:  weekly_assessmentMay_17_20214_16_46_PM.csv\n",
      "weekly_sssessment_file:  weekly_assessmentFeb_23_20218_52_41_PM.csv\n",
      "weekly_sssessment_file:  weekly_assessmentMar_15_20213_44_24_PM.csv\n",
      "weekly_sssessment_file:  weekly_assessmentApr_2_20216_04_43_PM.csv\n",
      "weekly_sssessment_file:  weekly_assessmentMay_10_20212_25_32_PM.csv\n",
      "weekly_sssessment_file:  weekly_assessmentApr_13_20216_45_16_PM.csv\n",
      "participant_folder FT-30\n",
      "weekly_sssessment_file:  weekly_assessmentSep_11,_202111_36_38_AM.csv\n",
      "weekly_sssessment_file:  weekly_assessmentAug_19,_20218_31_17_AM.csv\n",
      "weekly_sssessment_file:  weekly_assessmentNov_9,_202110_26_34_AM.csv\n",
      "weekly_sssessment_file:  weekly_assessmentSep_24,_20217_42_55_PM.csv\n",
      "weekly_sssessment_file:  weekly_assessmentOct_12,_20216_47_42_PM.csv\n",
      "weekly_sssessment_file:  weekly_assessmentAug_27,_20219_04_32_AM.csv\n",
      "weekly_sssessment_file:  weekly_assessmentAug_6,_20219_25_54_AM.csv\n",
      "weekly_sssessment_file:  weekly_assessmentSep_20,_20219_28_34_AM.csv\n",
      "participant_folder FT-37\n",
      "weekly_sssessment_file:  weekly_assessmentJan_11,_20227_49_30_PM.csv\n",
      "weekly_sssessment_file:  weekly_assessmentMar_16,_202210_45_16_AM.csv\n",
      "weekly_sssessment_file:  weekly_assessmentJan_22,_202210_14_24_AM.csv\n",
      "weekly_sssessment_file:  weekly_assessmentDec_21,_20213_29_33_PM.csv\n",
      "weekly_sssessment_file:  weekly_assessmentDec_29,_20218_57_51_PM.csv\n",
      "weekly_sssessment_file:  weekly_assessmentFeb_13,_20229_13_15_AM.csv\n",
      "weekly_sssessment_file:  weekly_assessmentFeb_1,_20229_18_12_AM.csv\n",
      "weekly_sssessment_file:  weekly_assessmentFeb_21,_20227_38_45_PM.csv\n",
      "participant_folder FT-01\n",
      "weekly_sssessment_file:  weekly_assessmentMar_9_202110_23_03_PM.csv\n",
      "weekly_sssessment_file:  weekly_assessmentMay_25_20218_02_03_PM.csv\n",
      "weekly_sssessment_file:  weekly_assessmentMar_17_202111_39_36_PM.csv\n",
      "weekly_sssessment_file:  weekly_assessmentApr_18_20218_34_56_AM.csv\n",
      "weekly_sssessment_file:  weekly_assessmentApr_1_202110_30_42_PM.csv\n",
      "participant_folder FT-39\n",
      "weekly_sssessment_file:  weekly_assessmentMay_7,_20228_03_39_PM.csv\n",
      "weekly_sssessment_file:  weekly_assessmentFeb_19,_20228_06_58_PM.csv\n",
      "weekly_sssessment_file:  weekly_assessmentApr_24,_20227_17_16_PM.csv\n",
      "weekly_sssessment_file:  weekly_assessmentMar_9,_20228_30_14_PM.csv\n",
      "weekly_sssessment_file:  weekly_assessmentApr_6,_20227_23_58_PM.csv\n",
      "weekly_sssessment_file:  weekly_assessmentApr_15,_20227_29_41_PM.csv\n",
      "weekly_sssessment_file:  weekly_assessmentFeb_27,_20227_53_40_PM.csv\n",
      "weekly_sssessment_file:  weekly_assessmentMar_28,_202210_31_24_AM.csv\n",
      "weekly_sssessment_file:  weekly_assessmentMar_17,_20227_05_47_PM.csv\n",
      "weekly_sssessment_file:  weekly_assessmentMay_17,_20228_39_41_PM.csv\n",
      "participant_folder FT-24\n",
      "weekly_sssessment_file:  weekly_assessmentJul_24_20218_59_15_PM.csv\n",
      "weekly_sssessment_file:  weekly_assessmentJul_7_20217_15_12_AM.csv\n",
      "weekly_sssessment_file:  weekly_assessmentJun_25_202110_36_54_PM.csv\n",
      "weekly_sssessment_file:  weekly_assessmentAug_4_20218_22_00_AM.csv\n",
      "weekly_sssessment_file:  weekly_assessmentJun_11_20218_23_54_PM.csv\n",
      "weekly_sssessment_file:  weekly_assessmentJun_2_20219_10_53_PM.csv\n",
      "weekly_sssessment_file:  weekly_assessmentMay_24_20218_15_42_PM.csv\n",
      "weekly_sssessment_file:  weekly_assessmentJul_14_20219_07_13_PM.csv\n",
      "weekly_sssessment_file:  weekly_assessmentAug_12_20215_51_55_PM.csv\n",
      "participant_folder FT-12\n",
      "weekly_sssessment_file:  weekly_assessmentMay_14_20219_51_33_AM.csv\n",
      "weekly_sssessment_file:  weekly_assessmentMay_7_20218_16_34_AM.csv\n",
      "weekly_sssessment_file:  weekly_assessmentMay_22_202112_36_48_AM.csv\n",
      "participant_folder FT-40\n",
      "weekly_sssessment_file:  weekly_assessmentApr_30,_20224_45_02_PM.csv\n",
      "weekly_sssessment_file:  weekly_assessmentMay_9,_20228_59_06_AM.csv\n",
      "weekly_sssessment_file:  weekly_assessmentMar_20,_20228_00_05_AM.csv\n",
      "weekly_sssessment_file:  weekly_assessmentMar_10,_20225_05_20_PM.csv\n",
      "weekly_sssessment_file:  weekly_assessmentApr_22,_20227_48_44_AM.csv\n",
      "weekly_sssessment_file:  weekly_assessmentApr_12,_20224_49_09_AM.csv\n",
      "weekly_sssessment_file:  weekly_assessmentMar_27,_20228_16_27_AM.csv\n",
      "weekly_sssessment_file:  weekly_assessmentApr_3,_202211_51_33_AM.csv\n",
      "weekly_sssessment_file:  weekly_assessmentMay_18,_20227_31_40_AM.csv\n",
      "participant_folder FT-14\n",
      "weekly_sssessment_file:  weekly_assessmentMar_9_20214_09_04_PM.csv\n",
      "weekly_sssessment_file:  weekly_assessmentFeb_16_20218_04_30_AM.csv\n",
      "weekly_sssessment_file:  weekly_assessmentDec_18_20207_24_48_AM.csv\n",
      "participant_folder FT-25\n",
      "weekly_sssessment_file:  weekly_assessmentJul_19_202110_56_55_AM.csv\n",
      "weekly_sssessment_file:  weekly_assessmentAug_9_20212_59_10_AM.csv\n",
      "weekly_sssessment_file:  weekly_assessmentJun_28_20211_12_26_PM.csv\n",
      "weekly_sssessment_file:  weekly_assessmentJun_20_20211_31_40_AM.csv\n",
      "weekly_sssessment_file:  weekly_assessmentJul_29_20214_11_45_PM.csv\n",
      "weekly_sssessment_file:  weekly_assessmentJul_11_20214_41_19_AM.csv\n",
      "weekly_sssessment_file:  weekly_assessmentJun_9_20211_46_00_PM.csv\n"
     ]
    }
   ],
   "source": [
    "\n",
    "df_weekly_assessment = get_all_weekly_assessments(folder_participant)\n"
   ]
  },
  {
   "cell_type": "code",
   "execution_count": null,
   "metadata": {},
   "outputs": [],
   "source": [
    "# df_weeklyassessment.to_csv(\"/Users/shehjarsadhu/Desktop/UniversityOfRhodeIsland/Graduate/WBL/Project_Carewell/FTStudyData/CareWellAppGroup/APPGROUP/weekly_all.csv\")\n"
   ]
  },
  {
   "cell_type": "code",
   "execution_count": 79,
   "metadata": {},
   "outputs": [
    {
     "ename": "FileNotFoundError",
     "evalue": "[Errno 2] No such file or directory: '/Users/shehjarsadhu/Desktop/UniversityOfRhodeIsland/Graduate/ResearchWBL/Project_Carewell/FTStudyData/CareWellAppGroup/FT-16/weekly_assessment.csv'",
     "output_type": "error",
     "traceback": [
      "\u001b[0;31m---------------------------------------------------------------------------\u001b[0m",
      "\u001b[0;31mFileNotFoundError\u001b[0m                         Traceback (most recent call last)",
      "\u001b[0;32m<ipython-input-79-f4f3992de306>\u001b[0m in \u001b[0;36m<module>\u001b[0;34m\u001b[0m\n\u001b[1;32m      6\u001b[0m \u001b[0;31m# Very Poor\u001b[0m\u001b[0;34m\u001b[0m\u001b[0;34m\u001b[0m\u001b[0;34m\u001b[0m\u001b[0m\n\u001b[1;32m      7\u001b[0m \u001b[0;31m# Test run for one participant.\u001b[0m\u001b[0;34m\u001b[0m\u001b[0;34m\u001b[0m\u001b[0;34m\u001b[0m\u001b[0m\n\u001b[0;32m----> 8\u001b[0;31m \u001b[0mdf_wa_16\u001b[0m \u001b[0;34m=\u001b[0m \u001b[0mpd\u001b[0m\u001b[0;34m.\u001b[0m\u001b[0mread_csv\u001b[0m\u001b[0;34m(\u001b[0m\u001b[0;34m\"/Users/shehjarsadhu/Desktop/UniversityOfRhodeIsland/Graduate/ResearchWBL/Project_Carewell/FTStudyData/CareWellAppGroup/FT-16/weekly_assessment.csv\"\u001b[0m\u001b[0;34m)\u001b[0m\u001b[0;34m\u001b[0m\u001b[0;34m\u001b[0m\u001b[0m\n\u001b[0m\u001b[1;32m      9\u001b[0m \u001b[0mdf_wa_16\u001b[0m\u001b[0;34m\u001b[0m\u001b[0;34m\u001b[0m\u001b[0m\n",
      "\u001b[0;32m~/opt/anaconda3/envs/edear/lib/python3.7/site-packages/pandas/io/parsers.py\u001b[0m in \u001b[0;36mread_csv\u001b[0;34m(filepath_or_buffer, sep, delimiter, header, names, index_col, usecols, squeeze, prefix, mangle_dupe_cols, dtype, engine, converters, true_values, false_values, skipinitialspace, skiprows, skipfooter, nrows, na_values, keep_default_na, na_filter, verbose, skip_blank_lines, parse_dates, infer_datetime_format, keep_date_col, date_parser, dayfirst, cache_dates, iterator, chunksize, compression, thousands, decimal, lineterminator, quotechar, quoting, doublequote, escapechar, comment, encoding, dialect, error_bad_lines, warn_bad_lines, delim_whitespace, low_memory, memory_map, float_precision)\u001b[0m\n\u001b[1;32m    684\u001b[0m     )\n\u001b[1;32m    685\u001b[0m \u001b[0;34m\u001b[0m\u001b[0m\n\u001b[0;32m--> 686\u001b[0;31m     \u001b[0;32mreturn\u001b[0m \u001b[0m_read\u001b[0m\u001b[0;34m(\u001b[0m\u001b[0mfilepath_or_buffer\u001b[0m\u001b[0;34m,\u001b[0m \u001b[0mkwds\u001b[0m\u001b[0;34m)\u001b[0m\u001b[0;34m\u001b[0m\u001b[0;34m\u001b[0m\u001b[0m\n\u001b[0m\u001b[1;32m    687\u001b[0m \u001b[0;34m\u001b[0m\u001b[0m\n\u001b[1;32m    688\u001b[0m \u001b[0;34m\u001b[0m\u001b[0m\n",
      "\u001b[0;32m~/opt/anaconda3/envs/edear/lib/python3.7/site-packages/pandas/io/parsers.py\u001b[0m in \u001b[0;36m_read\u001b[0;34m(filepath_or_buffer, kwds)\u001b[0m\n\u001b[1;32m    450\u001b[0m \u001b[0;34m\u001b[0m\u001b[0m\n\u001b[1;32m    451\u001b[0m     \u001b[0;31m# Create the parser.\u001b[0m\u001b[0;34m\u001b[0m\u001b[0;34m\u001b[0m\u001b[0;34m\u001b[0m\u001b[0m\n\u001b[0;32m--> 452\u001b[0;31m     \u001b[0mparser\u001b[0m \u001b[0;34m=\u001b[0m \u001b[0mTextFileReader\u001b[0m\u001b[0;34m(\u001b[0m\u001b[0mfp_or_buf\u001b[0m\u001b[0;34m,\u001b[0m \u001b[0;34m**\u001b[0m\u001b[0mkwds\u001b[0m\u001b[0;34m)\u001b[0m\u001b[0;34m\u001b[0m\u001b[0;34m\u001b[0m\u001b[0m\n\u001b[0m\u001b[1;32m    453\u001b[0m \u001b[0;34m\u001b[0m\u001b[0m\n\u001b[1;32m    454\u001b[0m     \u001b[0;32mif\u001b[0m \u001b[0mchunksize\u001b[0m \u001b[0;32mor\u001b[0m \u001b[0miterator\u001b[0m\u001b[0;34m:\u001b[0m\u001b[0;34m\u001b[0m\u001b[0;34m\u001b[0m\u001b[0m\n",
      "\u001b[0;32m~/opt/anaconda3/envs/edear/lib/python3.7/site-packages/pandas/io/parsers.py\u001b[0m in \u001b[0;36m__init__\u001b[0;34m(self, f, engine, **kwds)\u001b[0m\n\u001b[1;32m    944\u001b[0m             \u001b[0mself\u001b[0m\u001b[0;34m.\u001b[0m\u001b[0moptions\u001b[0m\u001b[0;34m[\u001b[0m\u001b[0;34m\"has_index_names\"\u001b[0m\u001b[0;34m]\u001b[0m \u001b[0;34m=\u001b[0m \u001b[0mkwds\u001b[0m\u001b[0;34m[\u001b[0m\u001b[0;34m\"has_index_names\"\u001b[0m\u001b[0;34m]\u001b[0m\u001b[0;34m\u001b[0m\u001b[0;34m\u001b[0m\u001b[0m\n\u001b[1;32m    945\u001b[0m \u001b[0;34m\u001b[0m\u001b[0m\n\u001b[0;32m--> 946\u001b[0;31m         \u001b[0mself\u001b[0m\u001b[0;34m.\u001b[0m\u001b[0m_make_engine\u001b[0m\u001b[0;34m(\u001b[0m\u001b[0mself\u001b[0m\u001b[0;34m.\u001b[0m\u001b[0mengine\u001b[0m\u001b[0;34m)\u001b[0m\u001b[0;34m\u001b[0m\u001b[0;34m\u001b[0m\u001b[0m\n\u001b[0m\u001b[1;32m    947\u001b[0m \u001b[0;34m\u001b[0m\u001b[0m\n\u001b[1;32m    948\u001b[0m     \u001b[0;32mdef\u001b[0m \u001b[0mclose\u001b[0m\u001b[0;34m(\u001b[0m\u001b[0mself\u001b[0m\u001b[0;34m)\u001b[0m\u001b[0;34m:\u001b[0m\u001b[0;34m\u001b[0m\u001b[0;34m\u001b[0m\u001b[0m\n",
      "\u001b[0;32m~/opt/anaconda3/envs/edear/lib/python3.7/site-packages/pandas/io/parsers.py\u001b[0m in \u001b[0;36m_make_engine\u001b[0;34m(self, engine)\u001b[0m\n\u001b[1;32m   1176\u001b[0m     \u001b[0;32mdef\u001b[0m \u001b[0m_make_engine\u001b[0m\u001b[0;34m(\u001b[0m\u001b[0mself\u001b[0m\u001b[0;34m,\u001b[0m \u001b[0mengine\u001b[0m\u001b[0;34m=\u001b[0m\u001b[0;34m\"c\"\u001b[0m\u001b[0;34m)\u001b[0m\u001b[0;34m:\u001b[0m\u001b[0;34m\u001b[0m\u001b[0;34m\u001b[0m\u001b[0m\n\u001b[1;32m   1177\u001b[0m         \u001b[0;32mif\u001b[0m \u001b[0mengine\u001b[0m \u001b[0;34m==\u001b[0m \u001b[0;34m\"c\"\u001b[0m\u001b[0;34m:\u001b[0m\u001b[0;34m\u001b[0m\u001b[0;34m\u001b[0m\u001b[0m\n\u001b[0;32m-> 1178\u001b[0;31m             \u001b[0mself\u001b[0m\u001b[0;34m.\u001b[0m\u001b[0m_engine\u001b[0m \u001b[0;34m=\u001b[0m \u001b[0mCParserWrapper\u001b[0m\u001b[0;34m(\u001b[0m\u001b[0mself\u001b[0m\u001b[0;34m.\u001b[0m\u001b[0mf\u001b[0m\u001b[0;34m,\u001b[0m \u001b[0;34m**\u001b[0m\u001b[0mself\u001b[0m\u001b[0;34m.\u001b[0m\u001b[0moptions\u001b[0m\u001b[0;34m)\u001b[0m\u001b[0;34m\u001b[0m\u001b[0;34m\u001b[0m\u001b[0m\n\u001b[0m\u001b[1;32m   1179\u001b[0m         \u001b[0;32melse\u001b[0m\u001b[0;34m:\u001b[0m\u001b[0;34m\u001b[0m\u001b[0;34m\u001b[0m\u001b[0m\n\u001b[1;32m   1180\u001b[0m             \u001b[0;32mif\u001b[0m \u001b[0mengine\u001b[0m \u001b[0;34m==\u001b[0m \u001b[0;34m\"python\"\u001b[0m\u001b[0;34m:\u001b[0m\u001b[0;34m\u001b[0m\u001b[0;34m\u001b[0m\u001b[0m\n",
      "\u001b[0;32m~/opt/anaconda3/envs/edear/lib/python3.7/site-packages/pandas/io/parsers.py\u001b[0m in \u001b[0;36m__init__\u001b[0;34m(self, src, **kwds)\u001b[0m\n\u001b[1;32m   2006\u001b[0m         \u001b[0mkwds\u001b[0m\u001b[0;34m[\u001b[0m\u001b[0;34m\"usecols\"\u001b[0m\u001b[0;34m]\u001b[0m \u001b[0;34m=\u001b[0m \u001b[0mself\u001b[0m\u001b[0;34m.\u001b[0m\u001b[0musecols\u001b[0m\u001b[0;34m\u001b[0m\u001b[0;34m\u001b[0m\u001b[0m\n\u001b[1;32m   2007\u001b[0m \u001b[0;34m\u001b[0m\u001b[0m\n\u001b[0;32m-> 2008\u001b[0;31m         \u001b[0mself\u001b[0m\u001b[0;34m.\u001b[0m\u001b[0m_reader\u001b[0m \u001b[0;34m=\u001b[0m \u001b[0mparsers\u001b[0m\u001b[0;34m.\u001b[0m\u001b[0mTextReader\u001b[0m\u001b[0;34m(\u001b[0m\u001b[0msrc\u001b[0m\u001b[0;34m,\u001b[0m \u001b[0;34m**\u001b[0m\u001b[0mkwds\u001b[0m\u001b[0;34m)\u001b[0m\u001b[0;34m\u001b[0m\u001b[0;34m\u001b[0m\u001b[0m\n\u001b[0m\u001b[1;32m   2009\u001b[0m         \u001b[0mself\u001b[0m\u001b[0;34m.\u001b[0m\u001b[0munnamed_cols\u001b[0m \u001b[0;34m=\u001b[0m \u001b[0mself\u001b[0m\u001b[0;34m.\u001b[0m\u001b[0m_reader\u001b[0m\u001b[0;34m.\u001b[0m\u001b[0munnamed_cols\u001b[0m\u001b[0;34m\u001b[0m\u001b[0;34m\u001b[0m\u001b[0m\n\u001b[1;32m   2010\u001b[0m \u001b[0;34m\u001b[0m\u001b[0m\n",
      "\u001b[0;32mpandas/_libs/parsers.pyx\u001b[0m in \u001b[0;36mpandas._libs.parsers.TextReader.__cinit__\u001b[0;34m()\u001b[0m\n",
      "\u001b[0;32mpandas/_libs/parsers.pyx\u001b[0m in \u001b[0;36mpandas._libs.parsers.TextReader._setup_parser_source\u001b[0;34m()\u001b[0m\n",
      "\u001b[0;31mFileNotFoundError\u001b[0m: [Errno 2] No such file or directory: '/Users/shehjarsadhu/Desktop/UniversityOfRhodeIsland/Graduate/ResearchWBL/Project_Carewell/FTStudyData/CareWellAppGroup/FT-16/weekly_assessment.csv'"
     ]
    }
   ],
   "source": [
    "# Exceptionally Good \n",
    "# Very Good\n",
    "# Good\n",
    "# Adequate \n",
    "# Poor\n",
    "# Very Poor\n",
    "# Test run for one participant.\n",
    "df_wa_16 = pd.read_csv(\"/Users/shehjarsadhu/Desktop/UniversityOfRhodeIsland/Graduate/ResearchWBL/Project_Carewell/FTStudyData/CareWellAppGroup/FT-16/weekly_assessment.csv\")\n",
    "df_wa_16\n"
   ]
  },
  {
   "cell_type": "code",
   "execution_count": 78,
   "metadata": {},
   "outputs": [
    {
     "ename": "NameError",
     "evalue": "name 'df_wa_16' is not defined",
     "output_type": "error",
     "traceback": [
      "\u001b[0;31m---------------------------------------------------------------------------\u001b[0m",
      "\u001b[0;31mNameError\u001b[0m                                 Traceback (most recent call last)",
      "\u001b[0;32m<ipython-input-78-0b3be3e83407>\u001b[0m in \u001b[0;36m<module>\u001b[0;34m\u001b[0m\n\u001b[0;32m----> 1\u001b[0;31m \u001b[0;32mfor\u001b[0m \u001b[0midx\u001b[0m\u001b[0;34m,\u001b[0m \u001b[0mval\u001b[0m \u001b[0;32min\u001b[0m \u001b[0menumerate\u001b[0m\u001b[0;34m(\u001b[0m\u001b[0mdf_wa_16\u001b[0m\u001b[0;34m[\u001b[0m\u001b[0;34m\"answer\"\u001b[0m\u001b[0;34m]\u001b[0m\u001b[0;34m)\u001b[0m\u001b[0;34m:\u001b[0m\u001b[0;34m\u001b[0m\u001b[0;34m\u001b[0m\u001b[0m\n\u001b[0m\u001b[1;32m      2\u001b[0m     \u001b[0mprint\u001b[0m\u001b[0;34m(\u001b[0m\u001b[0mdf_wa_16\u001b[0m\u001b[0;34m[\u001b[0m\u001b[0;34m\"answer\"\u001b[0m\u001b[0;34m]\u001b[0m\u001b[0;34m[\u001b[0m\u001b[0midx\u001b[0m\u001b[0;34m]\u001b[0m\u001b[0;34m)\u001b[0m\u001b[0;34m\u001b[0m\u001b[0;34m\u001b[0m\u001b[0m\n\u001b[1;32m      3\u001b[0m \u001b[0;34m\u001b[0m\u001b[0m\n",
      "\u001b[0;31mNameError\u001b[0m: name 'df_wa_16' is not defined"
     ]
    }
   ],
   "source": [
    "for idx, val in enumerate(df_wa_16[\"answer\"]):\n",
    "    print(df_wa_16[\"answer\"][idx])\n",
    "    "
   ]
  },
  {
   "cell_type": "code",
   "execution_count": null,
   "metadata": {},
   "outputs": [],
   "source": [
    "\n",
    "for idx,val in enumerate(df_wa_16[\"answer\"]):\n",
    "    if df_wa_16[\"answer\"][idx] == \"Very Good\":\n",
    "        df_wa_16[\"answer\"][idx] = 0\n",
    "    if df_wa_16[\"answer\"][idx] == \"Good\":\n",
    "        df_wa_16[\"answer\"][idx] = 1\n",
    "    if df_wa_16[\"answer\"][idx] == \"Adequate\":\n",
    "        df_wa_16[\"answer\"][idx] = 2\n",
    "    if df_wa_16[\"answer\"][idx] == 'Adequate ':\n",
    "        df_wa_16[\"answer\"][idx] = 2\n",
    "    if df_wa_16[\"answer\"][idx] == \"Very Poor\":\n",
    "        df_wa_16[\"answer\"][idx] = 3"
   ]
  },
  {
   "cell_type": "code",
   "execution_count": null,
   "metadata": {},
   "outputs": [],
   "source": [
    "df_wa_16"
   ]
  },
  {
   "cell_type": "code",
   "execution_count": null,
   "metadata": {},
   "outputs": [],
   "source": [
    "df_wa_16[\"category\"].unique()"
   ]
  },
  {
   "cell_type": "code",
   "execution_count": null,
   "metadata": {},
   "outputs": [],
   "source": [
    "df_wa_16[\"answer\"].unique()"
   ]
  },
  {
   "cell_type": "code",
   "execution_count": null,
   "metadata": {},
   "outputs": [],
   "source": [
    "df_wa_16[df_wa_16[\"category\"] ==\"Family Support\"]\n"
   ]
  },
  {
   "cell_type": "code",
   "execution_count": null,
   "metadata": {},
   "outputs": [],
   "source": [
    "\n",
    "fig = go.Figure(go.Scatter(\n",
    "    y = df_wa_16[df_wa_16[\"category\"] ==\"Family Support\"][\"answer\"]\n",
    "         ))\n",
    "fig.show()\n"
   ]
  },
  {
   "cell_type": "markdown",
   "metadata": {},
   "source": [
    "## Initial Assessment All\n",
    "- Calculate all Concern/No Concern for different Key Areas."
   ]
  },
  {
   "cell_type": "code",
   "execution_count": 82,
   "metadata": {},
   "outputs": [],
   "source": [
    "df_init_all_pids = pd.read_csv(\"/Users/shehjarsadhu/Desktop/UniversityOfRhodeIsland/Graduate/WBL/Project_Carewell/FTStudyData/CareWellAppGroup/APPGROUP/initial_assessment_all.csv\")\n"
   ]
  },
  {
   "cell_type": "code",
   "execution_count": 83,
   "metadata": {},
   "outputs": [
    {
     "data": {
      "text/html": [
       "<div>\n",
       "<style scoped>\n",
       "    .dataframe tbody tr th:only-of-type {\n",
       "        vertical-align: middle;\n",
       "    }\n",
       "\n",
       "    .dataframe tbody tr th {\n",
       "        vertical-align: top;\n",
       "    }\n",
       "\n",
       "    .dataframe thead th {\n",
       "        text-align: right;\n",
       "    }\n",
       "</style>\n",
       "<table border=\"1\" class=\"dataframe\">\n",
       "  <thead>\n",
       "    <tr style=\"text-align: right;\">\n",
       "      <th></th>\n",
       "      <th>Unnamed: 0</th>\n",
       "      <th>category</th>\n",
       "      <th>question</th>\n",
       "      <th>option1</th>\n",
       "      <th>answer1</th>\n",
       "      <th>option2</th>\n",
       "      <th>answer2</th>\n",
       "      <th>option3</th>\n",
       "      <th>answer3</th>\n",
       "      <th>patient_id</th>\n",
       "    </tr>\n",
       "  </thead>\n",
       "  <tbody>\n",
       "    <tr>\n",
       "      <th>0</th>\n",
       "      <td>0</td>\n",
       "      <td>Family Functioning</td>\n",
       "      <td>You will now be given some questions about you...</td>\n",
       "      <td>NaN</td>\n",
       "      <td>NaN</td>\n",
       "      <td>NaN</td>\n",
       "      <td>NaN</td>\n",
       "      <td>NaN</td>\n",
       "      <td>NaN</td>\n",
       "      <td>FT-04</td>\n",
       "    </tr>\n",
       "    <tr>\n",
       "      <th>1</th>\n",
       "      <td>1</td>\n",
       "      <td>Family Functioning</td>\n",
       "      <td>Do you have family members who are available t...</td>\n",
       "      <td>NaN</td>\n",
       "      <td>NaN</td>\n",
       "      <td>NaN</td>\n",
       "      <td>NaN</td>\n",
       "      <td>NaN</td>\n",
       "      <td>NaN</td>\n",
       "      <td>FT-04</td>\n",
       "    </tr>\n",
       "    <tr>\n",
       "      <th>2</th>\n",
       "      <td>2</td>\n",
       "      <td>Family Functioning</td>\n",
       "      <td>Are you satisfied with the amount of help you ...</td>\n",
       "      <td>NaN</td>\n",
       "      <td>NaN</td>\n",
       "      <td>NaN</td>\n",
       "      <td>NaN</td>\n",
       "      <td>NaN</td>\n",
       "      <td>NaN</td>\n",
       "      <td>FT-04</td>\n",
       "    </tr>\n",
       "    <tr>\n",
       "      <th>3</th>\n",
       "      <td>3</td>\n",
       "      <td>Family Functioning</td>\n",
       "      <td>Are you satisfied with the amount of emotional...</td>\n",
       "      <td>NaN</td>\n",
       "      <td>yes</td>\n",
       "      <td>NaN</td>\n",
       "      <td>NaN</td>\n",
       "      <td>NaN</td>\n",
       "      <td>NaN</td>\n",
       "      <td>FT-04</td>\n",
       "    </tr>\n",
       "    <tr>\n",
       "      <th>4</th>\n",
       "      <td>4</td>\n",
       "      <td>Family Functioning</td>\n",
       "      <td>Can you could rely on your family members to s...</td>\n",
       "      <td>NaN</td>\n",
       "      <td>no</td>\n",
       "      <td>NaN</td>\n",
       "      <td>NaN</td>\n",
       "      <td>NaN</td>\n",
       "      <td>NaN</td>\n",
       "      <td>FT-04</td>\n",
       "    </tr>\n",
       "  </tbody>\n",
       "</table>\n",
       "</div>"
      ],
      "text/plain": [
       "   Unnamed: 0            category  \\\n",
       "0           0  Family Functioning   \n",
       "1           1  Family Functioning   \n",
       "2           2  Family Functioning   \n",
       "3           3  Family Functioning   \n",
       "4           4  Family Functioning   \n",
       "\n",
       "                                            question  option1 answer1 option2  \\\n",
       "0  You will now be given some questions about you...      NaN     NaN     NaN   \n",
       "1  Do you have family members who are available t...      NaN     NaN     NaN   \n",
       "2  Are you satisfied with the amount of help you ...      NaN     NaN     NaN   \n",
       "3  Are you satisfied with the amount of emotional...      NaN     yes     NaN   \n",
       "4  Can you could rely on your family members to s...      NaN      no     NaN   \n",
       "\n",
       "  answer2 option3 answer3 patient_id  \n",
       "0     NaN     NaN     NaN      FT-04  \n",
       "1     NaN     NaN     NaN      FT-04  \n",
       "2     NaN     NaN     NaN      FT-04  \n",
       "3     NaN     NaN     NaN      FT-04  \n",
       "4     NaN     NaN     NaN      FT-04  "
      ]
     },
     "execution_count": 83,
     "metadata": {},
     "output_type": "execute_result"
    }
   ],
   "source": [
    "df_init_all_pids.head()"
   ]
  },
  {
   "cell_type": "code",
   "execution_count": 84,
   "metadata": {},
   "outputs": [
    {
     "data": {
      "text/plain": [
       "array(['Family Functioning', 'Social Support', 'Mood/Depression',\n",
       "       'Health', 'Care Recipient'], dtype=object)"
      ]
     },
     "execution_count": 84,
     "metadata": {},
     "output_type": "execute_result"
    }
   ],
   "source": [
    "df_init_all_pids[\"category\"].unique()"
   ]
  },
  {
   "cell_type": "code",
   "execution_count": null,
   "metadata": {},
   "outputs": [],
   "source": []
  },
  {
   "cell_type": "code",
   "execution_count": null,
   "metadata": {},
   "outputs": [],
   "source": []
  },
  {
   "cell_type": "markdown",
   "metadata": {},
   "source": [
    "-- Initial assessment categories. "
   ]
  },
  {
   "cell_type": "code",
   "execution_count": 94,
   "metadata": {},
   "outputs": [],
   "source": [
    "# Get concern / no concern for initial assessment. \n",
    "# Parameters:  Takes in pid_list as .\n",
    "# Returns: No concern percentage for the different key areas.\n",
    "def init_categories(pid_list):\n",
    "    # pid = \"FT-02\" # Get all patient responses. \n",
    "    df_list = [] # columns = ['FamilyFunctioning', 'SocialSupport', 'Mood/Depression','Health']\n",
    "    for pid in pid_list:\n",
    "        print(pid)\n",
    "        df_p = df_init_all_pids[df_init_all_pids[\"patient_id\"]==pid]\n",
    "        total_ff = 8\n",
    "        total_ss = 9\n",
    "        total_md = 7\n",
    "        total_he = 7\n",
    "        ff = df_p[df_p[\"category\"]==\"Family Functioning\"] \n",
    "        ss = df_p[df_p[\"category\"]==\"Social Support\"]\n",
    "        md = df_p[df_p[\"category\"]==\"Mood/Depression\"]\n",
    "        he = df_p[df_p[\"category\"]==\"Health\"]\n",
    "        # Concern/No Concern labels for Family Functioning.\n",
    "        ff_yes_percentage = ff[\"answer1\"].value_counts()[0]/total_ff*100 # No concen  \n",
    "        ss_yes_percentage = ss[\"answer1\"].value_counts()[0]/total_ss*100\n",
    "        md_yes_percentage = md[\"answer1\"].value_counts()[0]/total_md*100\n",
    "        he_yes_percentage = he[\"answer1\"].value_counts()[0]/total_he*100\n",
    "\n",
    "        df_concern_noconcern = pd.DataFrame([[ff_yes_percentage,ss_yes_percentage,md_yes_percentage,he_yes_percentage]]) \n",
    "        df_concern_noconcern[\"PatientID\"] = pid\n",
    "        df_list.append(df_concern_noconcern)\n",
    "    df_int = pd.concat(df_list)\n",
    "    return df_int\n",
    "\n"
   ]
  },
  {
   "cell_type": "code",
   "execution_count": 95,
   "metadata": {},
   "outputs": [
    {
     "name": "stdout",
     "output_type": "stream",
     "text": [
      "FT-01\n",
      "FT-02\n",
      "FT-04\n",
      "FT-07\n",
      "FT-11\n",
      "FT-12\n",
      "FT-14\n",
      "FT-16\n",
      "FT-20\n",
      "FT-24\n",
      "FT-25\n",
      "FT-26\n",
      "FT-28\n",
      "FT-29\n",
      "FT-40\n",
      "FT-39\n",
      "FT-30\n"
     ]
    }
   ],
   "source": [
    "df_int = init_categories(pid_list)"
   ]
  },
  {
   "cell_type": "code",
   "execution_count": null,
   "metadata": {},
   "outputs": [],
   "source": [
    "# df_int.to_csv(\"/Users/shehjarsadhu/Desktop/UniversityOfRhodeIsland/Graduate/WBL/Project_Carewell/FTStudyData/CareWellAppGroup/APPGROUP/init_assessment_concern_noconcern.csv\")\n"
   ]
  },
  {
   "cell_type": "code",
   "execution_count": null,
   "metadata": {},
   "outputs": [],
   "source": []
  },
  {
   "cell_type": "code",
   "execution_count": null,
   "metadata": {},
   "outputs": [],
   "source": []
  },
  {
   "cell_type": "code",
   "execution_count": null,
   "metadata": {},
   "outputs": [],
   "source": [
    "# print(\"Yes\",ff[\"answer1\"].value_counts()[0]/total_ff*100) #Yes\n",
    "# print(\"No\",ff[\"answer1\"].value_counts()[1]/total_ff*100) #No"
   ]
  },
  {
   "cell_type": "code",
   "execution_count": null,
   "metadata": {},
   "outputs": [],
   "source": [
    "# print(\"Yes\",ss[\"answer1\"].value_counts()[0]/total_ss*100) #Yes.\n",
    "# print(\"No\",ss[\"answer1\"].value_counts()[1]/total_ss*100) #No."
   ]
  },
  {
   "cell_type": "code",
   "execution_count": null,
   "metadata": {},
   "outputs": [],
   "source": [
    "# print(\"Yes\",md[\"answer1\"].value_counts()[0]/total_md*100) #Yes.\n",
    "# print(\"No\", md[\"answer1\"].value_counts()[1]/total_md*100) #No."
   ]
  },
  {
   "cell_type": "code",
   "execution_count": null,
   "metadata": {
    "scrolled": true
   },
   "outputs": [],
   "source": [
    "# print(\"Yes\", he[\"answer1\"].value_counts()[0]/total_he*100) #Yes.\n",
    "# print(\"No\", he[\"answer1\"].value_counts()[1]/total_he*100) #No."
   ]
  },
  {
   "cell_type": "code",
   "execution_count": 96,
   "metadata": {},
   "outputs": [
    {
     "name": "stdout",
     "output_type": "stream",
     "text": [
      "FT-01\n",
      "/Users/shehjarsadhu/Desktop/UniversityOfRhodeIsland/Graduate/WBL/Project_Carewell/FTStudyData/CareWellAppGroup/APPGROUP/FT-01/carewell-database.db\n"
     ]
    },
    {
     "ename": "NameError",
     "evalue": "name 'mins_df_diff' is not defined",
     "output_type": "error",
     "traceback": [
      "\u001b[0;31m---------------------------------------------------------------------------\u001b[0m",
      "\u001b[0;31mNameError\u001b[0m                                 Traceback (most recent call last)",
      "\u001b[0;32m<ipython-input-96-56a7a077f6d7>\u001b[0m in \u001b[0;36m<module>\u001b[0;34m\u001b[0m\n\u001b[1;32m      6\u001b[0m     \u001b[0mcnx\u001b[0m \u001b[0;34m=\u001b[0m \u001b[0msqlite3\u001b[0m\u001b[0;34m.\u001b[0m\u001b[0mconnect\u001b[0m\u001b[0;34m(\u001b[0m\u001b[0;34m'/Users/shehjarsadhu/Desktop/UniversityOfRhodeIsland/Graduate/WBL/Project_Carewell/FTStudyData/CareWellAppGroup/APPGROUP/'\u001b[0m \u001b[0;34m+\u001b[0m \u001b[0mval\u001b[0m \u001b[0;34m+\u001b[0m \u001b[0;34m'/carewell-database.db'\u001b[0m\u001b[0;34m)\u001b[0m\u001b[0;34m\u001b[0m\u001b[0;34m\u001b[0m\u001b[0m\n\u001b[1;32m      7\u001b[0m     \u001b[0mdf\u001b[0m \u001b[0;34m=\u001b[0m \u001b[0mpd\u001b[0m\u001b[0;34m.\u001b[0m\u001b[0mread_sql_query\u001b[0m\u001b[0;34m(\u001b[0m\u001b[0;34m\"SELECT * FROM usage_tracker_entry\"\u001b[0m\u001b[0;34m,\u001b[0m \u001b[0mcnx\u001b[0m\u001b[0;34m)\u001b[0m\u001b[0;34m\u001b[0m\u001b[0;34m\u001b[0m\u001b[0m\n\u001b[0;32m----> 8\u001b[0;31m     \u001b[0mdf\u001b[0m \u001b[0;34m=\u001b[0m \u001b[0mmins_df_diff\u001b[0m\u001b[0;34m(\u001b[0m\u001b[0mdf\u001b[0m\u001b[0;34m)\u001b[0m\u001b[0;31m# Add the usage diff column for mins times.\u001b[0m\u001b[0;34m\u001b[0m\u001b[0;34m\u001b[0m\u001b[0m\n\u001b[0m\u001b[1;32m      9\u001b[0m     \u001b[0mdf_totals\u001b[0m \u001b[0;34m=\u001b[0m \u001b[0mreturn_total\u001b[0m\u001b[0;34m(\u001b[0m\u001b[0mdf\u001b[0m\u001b[0;34m)\u001b[0m \u001b[0;31m# Totals per category.\u001b[0m\u001b[0;34m\u001b[0m\u001b[0;34m\u001b[0m\u001b[0m\n\u001b[1;32m     10\u001b[0m     \u001b[0mdf_totals\u001b[0m\u001b[0;34m[\u001b[0m\u001b[0;34m\"pid\"\u001b[0m\u001b[0;34m]\u001b[0m\u001b[0;34m=\u001b[0m \u001b[0mval\u001b[0m\u001b[0;34m\u001b[0m\u001b[0;34m\u001b[0m\u001b[0m\n",
      "\u001b[0;31mNameError\u001b[0m: name 'mins_df_diff' is not defined"
     ]
    }
   ],
   "source": [
    "## Ploting for usage data.\n",
    "df_list_total  = []\n",
    "for idx,val in enumerate(pid_list):\n",
    "    print(val)\n",
    "    print('/Users/shehjarsadhu/Desktop/UniversityOfRhodeIsland/Graduate/WBL/Project_Carewell/FTStudyData/CareWellAppGroup/APPGROUP/' + val + '/carewell-database.db')\n",
    "    # Create your connection.\n",
    "    cnx = sqlite3.connect('/Users/shehjarsadhu/Desktop/UniversityOfRhodeIsland/Graduate/WBL/Project_Carewell/FTStudyData/CareWellAppGroup/APPGROUP/' + val + '/carewell-database.db')\n",
    "    df = pd.read_sql_query(\"SELECT * FROM usage_tracker_entry\", cnx)\n",
    "    df = mins_df_diff(df)# Add the usage diff column for mins times.\n",
    "    df_totals = return_total(df) # Totals per category.\n",
    "    df_totals[\"pid\"]= val\n",
    "    \n",
    "    fig = go.Figure(data=[go.Bar(\n",
    "                y=df_totals[\"totals\"], x=df_totals[\"categories\"],\n",
    "                text=df_totals[\"totals\"],\n",
    "                textposition='auto',\n",
    "            )])\n",
    "    fig.update_layout(\n",
    "        title={\n",
    "            'text': \"A bar plot of total number of mins spent per participant (\" + val +\")\" + \"\\n Total mins = \" + str(df_totals[\"totals\"].sum()),\n",
    "            'y':0.95,\n",
    "            'x':0.5,\n",
    "            'xanchor': 'center',\n",
    "            'yanchor': 'top'})\n",
    "    fig.show()\n",
    "\n",
    "    df_list_total.append(df_totals)"
   ]
  },
  {
   "cell_type": "markdown",
   "metadata": {},
   "source": [
    "## BT-02 High usage Issue for managing care"
   ]
  },
  {
   "cell_type": "code",
   "execution_count": null,
   "metadata": {},
   "outputs": [],
   "source": [
    "p_id = \"FT-20\"\n",
    "# Create your connection.\n",
    "cnx = sqlite3.connect(\"/Users/shehjarsadhu/Desktop/UniversityOfRhodeIsland/Graduate/WBL/Project_Carewell/BT/App_Data_Extraction_TM/BT-02/database.db\")\n",
    "df_bt2 = pd.read_sql_query(\"SELECT * FROM usage_tracker_entry\", cnx)\n",
    "\n",
    "\n"
   ]
  },
  {
   "cell_type": "code",
   "execution_count": null,
   "metadata": {},
   "outputs": [],
   "source": [
    "df_bt2_mins = mins_df_diff(df_bt2)"
   ]
  },
  {
   "cell_type": "code",
   "execution_count": null,
   "metadata": {},
   "outputs": [],
   "source": [
    "# Get initial\n",
    "folder_participant = \"/Users/shehjarsadhu/Desktop/UniversityOfRhodeIsland/Graduate/WBL/Project_Carewell/BT/App_Data_Extraction_TM/\"\n",
    "#folder_participant = \"/Users/shehjarsadhu/Desktop/UniversityOfRhodeIsland/Graduate/WBL/Project_Carewell/BT/App_Data_Extraction_TM/BT-07\"\n",
    "\n",
    "df_all_list =[]\n",
    "for participant_folder in os.listdir(folder_participant):\n",
    "    if participant_folder.startswith(\"BT\"):\n",
    "        print(\"participant_folder\",folder_participant)\n",
    "#         for weekly_sssessment_file in os.listdir(folder_participant + \"/\" + participant_folder):\n",
    "#             if weekly_sssessment_file.startswith(\"weekly_assessment\") and weekly_sssessment_file.endswith(\".csv\"):\n",
    "#                 print(\"weekly_sssessment_file\",weekly_sssessment_file)\n",
    "#                 if weekly_sssessment_file.startswith(\"weekly_assessment_info\"):\n",
    "#                     pass\n",
    "#                 else:\n",
    "#                     print(folder_participant + \"/\" + participant_folder + weekly_sssessment_file)\n",
    "#                     df = pd.read_csv(folder_participant + \"/\" + participant_folder + weekly_sssessment_file , sep=\"#\")\n",
    "#                     df_all_list.append(df)\n",
    "#                     print(df)\n",
    "#                     print(df.columns)\n"
   ]
  },
  {
   "cell_type": "code",
   "execution_count": null,
   "metadata": {},
   "outputs": [],
   "source": [
    "df_bt2_mins.to_csv(\"/Users/shehjarsadhu/Desktop/usage_BT.csv\")"
   ]
  },
  {
   "cell_type": "code",
   "execution_count": null,
   "metadata": {},
   "outputs": [],
   "source": [
    "def return_total(df):\n",
    "    education_sum = 0 \n",
    "    managing_care_sum = 0\n",
    "    youtube_channel_sum = 0\n",
    "    dashboard_sum = 0\n",
    "    community_sum = 0\n",
    "    goals_sum = 0\n",
    "    for idx,val in enumerate(df[\"location\"]):\n",
    "        if((\"Education\" in val) == True):\n",
    "            education_sum+=df[\"UsageDiff\"][idx]\n",
    "        if((\"Managing\" in val) == True):\n",
    "            managing_care_sum+=df[\"UsageDiff\"][idx]\n",
    "        if((\"Media\" in val) == True):\n",
    "            youtube_channel_sum+=df[\"UsageDiff\"][idx]\n",
    "        if((\"Dashboard\" in val) == True):\n",
    "            youtube_channel_sum+=df[\"UsageDiff\"][idx]\n",
    "        if((\"Community\" in val) == True):\n",
    "            community_sum+=df[\"UsageDiff\"][idx]\n",
    "        if((\"Reminder\" in val) == True):\n",
    "            goals_sum+=df[\"UsageDiff\"][idx]\n",
    "#     d = { \"totals\": [education_sum, managing_care_sum, youtube_channel_sum, dashboard_sum ,community_sum,goals_sum] ,\n",
    "#         \"categories\": [\"Education\",\"ManagingCare\",\"YoutubeChannel\", \"Dashboard\",\"Community\",\"Reminders\"]}\n",
    "#     df_totals = pd.DataFrame(d)\n",
    "#     return df_totals\n",
    "# df_totals = return_total(df)\n",
    "# df_totals[\"totals\"].sum()\n",
    "\n"
   ]
  },
  {
   "cell_type": "markdown",
   "metadata": {},
   "source": [
    "## FT-09 High usage Issue for managing care"
   ]
  },
  {
   "cell_type": "code",
   "execution_count": null,
   "metadata": {},
   "outputs": [],
   "source": []
  },
  {
   "cell_type": "code",
   "execution_count": null,
   "metadata": {},
   "outputs": [],
   "source": []
  },
  {
   "cell_type": "code",
   "execution_count": null,
   "metadata": {},
   "outputs": [],
   "source": [
    "\n"
   ]
  },
  {
   "cell_type": "code",
   "execution_count": null,
   "metadata": {},
   "outputs": [],
   "source": []
  },
  {
   "cell_type": "code",
   "execution_count": null,
   "metadata": {},
   "outputs": [],
   "source": []
  },
  {
   "cell_type": "code",
   "execution_count": null,
   "metadata": {},
   "outputs": [],
   "source": []
  },
  {
   "cell_type": "code",
   "execution_count": null,
   "metadata": {},
   "outputs": [],
   "source": []
  }
 ],
 "metadata": {
  "kernelspec": {
   "display_name": "Python 3",
   "language": "python",
   "name": "python3"
  },
  "language_info": {
   "codemirror_mode": {
    "name": "ipython",
    "version": 3
   },
   "file_extension": ".py",
   "mimetype": "text/x-python",
   "name": "python",
   "nbconvert_exporter": "python",
   "pygments_lexer": "ipython3",
   "version": "3.7.9"
  }
 },
 "nbformat": 4,
 "nbformat_minor": 5
}
